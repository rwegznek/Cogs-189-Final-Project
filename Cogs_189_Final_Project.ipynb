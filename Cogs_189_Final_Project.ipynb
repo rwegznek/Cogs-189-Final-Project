{
 "cells": [
  {
   "cell_type": "markdown",
   "metadata": {},
   "source": [
    "### Imports"
   ]
  },
  {
   "cell_type": "code",
   "execution_count": 1,
   "metadata": {},
   "outputs": [
    {
     "name": "stderr",
     "output_type": "stream",
     "text": [
      "Using TensorFlow backend.\n"
     ]
    }
   ],
   "source": [
    "import numpy as np\n",
    "import matplotlib.pyplot as plt\n",
    "import matplotlib.patches as mpatches\n",
    "import pandas as pd\n",
    "import seaborn as sns\n",
    "from sklearn.discriminant_analysis import LinearDiscriminantAnalysis\n",
    "from sklearn.model_selection import train_test_split, cross_val_score, GridSearchCV\n",
    "from sklearn.neighbors import KNeighborsClassifier\n",
    "from sklearn.svm import SVC, LinearSVC\n",
    "from sklearn.tree import DecisionTreeClassifier\n",
    "from sklearn.ensemble import RandomForestClassifier\n",
    "import keras\n",
    "from keras.models import Sequential\n",
    "from keras.layers import Dense\n",
    "from sklearn.metrics import accuracy_score"
   ]
  },
  {
   "cell_type": "markdown",
   "metadata": {},
   "source": [
    "### Get Data"
   ]
  },
  {
   "cell_type": "code",
   "execution_count": 2,
   "metadata": {},
   "outputs": [
    {
     "data": {
      "text/html": [
       "<div>\n",
       "<style scoped>\n",
       "    .dataframe tbody tr th:only-of-type {\n",
       "        vertical-align: middle;\n",
       "    }\n",
       "\n",
       "    .dataframe tbody tr th {\n",
       "        vertical-align: top;\n",
       "    }\n",
       "\n",
       "    .dataframe thead th {\n",
       "        text-align: right;\n",
       "    }\n",
       "</style>\n",
       "<table border=\"1\" class=\"dataframe\">\n",
       "  <thead>\n",
       "    <tr style=\"text-align: right;\">\n",
       "      <th></th>\n",
       "      <th>Unnamed</th>\n",
       "      <th>X1</th>\n",
       "      <th>X2</th>\n",
       "      <th>X3</th>\n",
       "      <th>X4</th>\n",
       "      <th>X5</th>\n",
       "      <th>X6</th>\n",
       "      <th>X7</th>\n",
       "      <th>X8</th>\n",
       "      <th>X9</th>\n",
       "      <th>...</th>\n",
       "      <th>X170</th>\n",
       "      <th>X171</th>\n",
       "      <th>X172</th>\n",
       "      <th>X173</th>\n",
       "      <th>X174</th>\n",
       "      <th>X175</th>\n",
       "      <th>X176</th>\n",
       "      <th>X177</th>\n",
       "      <th>X178</th>\n",
       "      <th>y</th>\n",
       "    </tr>\n",
       "  </thead>\n",
       "  <tbody>\n",
       "    <tr>\n",
       "      <th>0</th>\n",
       "      <td>X21.V1.791</td>\n",
       "      <td>135</td>\n",
       "      <td>190</td>\n",
       "      <td>229</td>\n",
       "      <td>223</td>\n",
       "      <td>192</td>\n",
       "      <td>125</td>\n",
       "      <td>55</td>\n",
       "      <td>-9</td>\n",
       "      <td>-33</td>\n",
       "      <td>...</td>\n",
       "      <td>-17</td>\n",
       "      <td>-15</td>\n",
       "      <td>-31</td>\n",
       "      <td>-77</td>\n",
       "      <td>-103</td>\n",
       "      <td>-127</td>\n",
       "      <td>-116</td>\n",
       "      <td>-83</td>\n",
       "      <td>-51</td>\n",
       "      <td>4</td>\n",
       "    </tr>\n",
       "    <tr>\n",
       "      <th>1</th>\n",
       "      <td>X15.V1.924</td>\n",
       "      <td>386</td>\n",
       "      <td>382</td>\n",
       "      <td>356</td>\n",
       "      <td>331</td>\n",
       "      <td>320</td>\n",
       "      <td>315</td>\n",
       "      <td>307</td>\n",
       "      <td>272</td>\n",
       "      <td>244</td>\n",
       "      <td>...</td>\n",
       "      <td>164</td>\n",
       "      <td>150</td>\n",
       "      <td>146</td>\n",
       "      <td>152</td>\n",
       "      <td>157</td>\n",
       "      <td>156</td>\n",
       "      <td>154</td>\n",
       "      <td>143</td>\n",
       "      <td>129</td>\n",
       "      <td>1</td>\n",
       "    </tr>\n",
       "    <tr>\n",
       "      <th>2</th>\n",
       "      <td>X8.V1.1</td>\n",
       "      <td>-32</td>\n",
       "      <td>-39</td>\n",
       "      <td>-47</td>\n",
       "      <td>-37</td>\n",
       "      <td>-32</td>\n",
       "      <td>-36</td>\n",
       "      <td>-57</td>\n",
       "      <td>-73</td>\n",
       "      <td>-85</td>\n",
       "      <td>...</td>\n",
       "      <td>57</td>\n",
       "      <td>64</td>\n",
       "      <td>48</td>\n",
       "      <td>19</td>\n",
       "      <td>-12</td>\n",
       "      <td>-30</td>\n",
       "      <td>-35</td>\n",
       "      <td>-35</td>\n",
       "      <td>-36</td>\n",
       "      <td>5</td>\n",
       "    </tr>\n",
       "    <tr>\n",
       "      <th>3</th>\n",
       "      <td>X16.V1.60</td>\n",
       "      <td>-105</td>\n",
       "      <td>-101</td>\n",
       "      <td>-96</td>\n",
       "      <td>-92</td>\n",
       "      <td>-89</td>\n",
       "      <td>-95</td>\n",
       "      <td>-102</td>\n",
       "      <td>-100</td>\n",
       "      <td>-87</td>\n",
       "      <td>...</td>\n",
       "      <td>-82</td>\n",
       "      <td>-81</td>\n",
       "      <td>-80</td>\n",
       "      <td>-77</td>\n",
       "      <td>-85</td>\n",
       "      <td>-77</td>\n",
       "      <td>-72</td>\n",
       "      <td>-69</td>\n",
       "      <td>-65</td>\n",
       "      <td>5</td>\n",
       "    </tr>\n",
       "    <tr>\n",
       "      <th>4</th>\n",
       "      <td>X20.V1.54</td>\n",
       "      <td>-9</td>\n",
       "      <td>-65</td>\n",
       "      <td>-98</td>\n",
       "      <td>-102</td>\n",
       "      <td>-78</td>\n",
       "      <td>-48</td>\n",
       "      <td>-16</td>\n",
       "      <td>0</td>\n",
       "      <td>-21</td>\n",
       "      <td>...</td>\n",
       "      <td>4</td>\n",
       "      <td>2</td>\n",
       "      <td>-12</td>\n",
       "      <td>-32</td>\n",
       "      <td>-41</td>\n",
       "      <td>-65</td>\n",
       "      <td>-83</td>\n",
       "      <td>-89</td>\n",
       "      <td>-73</td>\n",
       "      <td>5</td>\n",
       "    </tr>\n",
       "  </tbody>\n",
       "</table>\n",
       "<p>5 rows × 180 columns</p>\n",
       "</div>"
      ],
      "text/plain": [
       "      Unnamed   X1   X2   X3   X4   X5   X6   X7   X8   X9  ...  X170  X171  \\\n",
       "0  X21.V1.791  135  190  229  223  192  125   55   -9  -33  ...   -17   -15   \n",
       "1  X15.V1.924  386  382  356  331  320  315  307  272  244  ...   164   150   \n",
       "2     X8.V1.1  -32  -39  -47  -37  -32  -36  -57  -73  -85  ...    57    64   \n",
       "3   X16.V1.60 -105 -101  -96  -92  -89  -95 -102 -100  -87  ...   -82   -81   \n",
       "4   X20.V1.54   -9  -65  -98 -102  -78  -48  -16    0  -21  ...     4     2   \n",
       "\n",
       "   X172  X173  X174  X175  X176  X177  X178  y  \n",
       "0   -31   -77  -103  -127  -116   -83   -51  4  \n",
       "1   146   152   157   156   154   143   129  1  \n",
       "2    48    19   -12   -30   -35   -35   -36  5  \n",
       "3   -80   -77   -85   -77   -72   -69   -65  5  \n",
       "4   -12   -32   -41   -65   -83   -89   -73  5  \n",
       "\n",
       "[5 rows x 180 columns]"
      ]
     },
     "execution_count": 2,
     "metadata": {},
     "output_type": "execute_result"
    }
   ],
   "source": [
    "df = pd.read_csv('Epileptic Seizure Recognition.csv')\n",
    "df.head()"
   ]
  },
  {
   "cell_type": "markdown",
   "metadata": {},
   "source": [
    "### Data Visualization"
   ]
  },
  {
   "cell_type": "code",
   "execution_count": 3,
   "metadata": {},
   "outputs": [],
   "source": [
    "for i, row in df.iterrows():\n",
    "    value = 0\n",
    "    if row['y'] == 1:\n",
    "        value = 1\n",
    "    df.at[i, 'y'] = value"
   ]
  },
  {
   "cell_type": "code",
   "execution_count": 4,
   "metadata": {},
   "outputs": [],
   "source": [
    "dfy = df.groupby(\"y\")\n",
    "df1 = dfy.get_group(1)\n",
    "df0 = dfy.get_group(0)\n",
    "X1 = df1.iloc[:,1:179].values\n",
    "X0 = df0.iloc[:,1:179].values"
   ]
  },
  {
   "cell_type": "code",
   "execution_count": 5,
   "metadata": {},
   "outputs": [],
   "source": [
    "avg1 = X1.mean(axis = 0)\n",
    "avg0 = X0.mean(axis = 0)"
   ]
  },
  {
   "cell_type": "code",
   "execution_count": 6,
   "metadata": {},
   "outputs": [
    {
     "data": {
      "text/plain": [
       "[<matplotlib.lines.Line2D at 0x1a3b33b3c8>,\n",
       " <matplotlib.lines.Line2D at 0x1a3c867470>]"
      ]
     },
     "execution_count": 6,
     "metadata": {},
     "output_type": "execute_result"
    },
    {
     "data": {
      "image/png": "[encoded data removed]",
      "text/plain": [
       "<Figure size 720x360 with 1 Axes>"
      ]
     },
     "metadata": {
      "needs_background": "light"
     },
     "output_type": "display_data"
    }
   ],
   "source": [
    "black = mpatches.Patch(color='k', label = 'class0')\n",
    "magenta = mpatches.Patch(color='m', label = 'class1')\n",
    "plt.figure(figsize = (10, 5))\n",
    "plt.legend(handles = [black, magenta])\n",
    "plt.plot(avg1, 'm', avg0, 'k')"
   ]
  },
  {
   "cell_type": "markdown",
   "metadata": {},
   "source": [
    "### Separate Labels from Data"
   ]
  },
  {
   "cell_type": "code",
   "execution_count": 7,
   "metadata": {},
   "outputs": [],
   "source": [
    "X = df.iloc[:,1:179].values"
   ]
  },
  {
   "cell_type": "code",
   "execution_count": 8,
   "metadata": {},
   "outputs": [],
   "source": [
    "Y = df.iloc[:,179].values"
   ]
  },
  {
   "cell_type": "markdown",
   "metadata": {},
   "source": [
    "### Split Into Train/Test Sets"
   ]
  },
  {
   "cell_type": "code",
   "execution_count": 9,
   "metadata": {},
   "outputs": [],
   "source": [
    "X_train, X_test, Y_train, Y_test = train_test_split(X, Y, test_size = .2)"
   ]
  },
  {
   "cell_type": "markdown",
   "metadata": {},
   "source": [
    "### SVM"
   ]
  },
  {
   "cell_type": "code",
   "execution_count": 10,
   "metadata": {},
   "outputs": [
    {
     "data": {
      "text/plain": [
       "GridSearchCV(cv=3, error_score='raise-deprecating',\n",
       "       estimator=SVC(C=1.0, cache_size=200, class_weight=None, coef0=0.0,\n",
       "  decision_function_shape='ovr', degree=3, gamma='auto_deprecated',\n",
       "  kernel='rbf', max_iter=-1, probability=False, random_state=None,\n",
       "  shrinking=True, tol=0.001, verbose=False),\n",
       "       fit_params=None, iid='warn', n_jobs=None,\n",
       "       param_grid={'C': [0.001, 0.01, 0.1, 1, 10], 'gamma': ['scale', 0.001, 0.01, 0.1, 1]},\n",
       "       pre_dispatch='2*n_jobs', refit=True, return_train_score='warn',\n",
       "       scoring=None, verbose=0)"
      ]
     },
     "execution_count": 10,
     "metadata": {},
     "output_type": "execute_result"
    }
   ],
   "source": [
    "svm = SVC()\n",
    "C = [0.001, .01, .1, 1, 10]\n",
    "gamma = ['scale', .001, .01, .1, 1]\n",
    "params = {'C': C, 'gamma': gamma}\n",
    "svm = GridSearchCV(svm, params, cv = 3)\n",
    "svm.fit(X_train, Y_train)"
   ]
  },
  {
   "cell_type": "code",
   "execution_count": 11,
   "metadata": {
    "scrolled": true
   },
   "outputs": [
    {
     "name": "stdout",
     "output_type": "stream",
     "text": [
      "best parameters:  {'C': 10, 'gamma': 'scale'}\n",
      "training accuracy:  99.80434782608695\n",
      "testing accuracy:  97.78260869565217\n"
     ]
    }
   ],
   "source": [
    "print('best parameters: ', svm.best_params_)\n",
    "C_val = svm.best_params_.get('C')\n",
    "gamma_val = svm.best_params_.get('gamma')\n",
    "svm = SVC(C = C_val, gamma = gamma_val)\n",
    "svm.fit(X_train, Y_train)\n",
    "acc_svm_train = svm.score(X_train, Y_train) * 100\n",
    "print('training accuracy: ', acc_svm_train)\n",
    "acc_svm = svm.score(X_test, Y_test) * 100\n",
    "print('testing accuracy: ', acc_svm)"
   ]
  },
  {
   "cell_type": "markdown",
   "metadata": {},
   "source": [
    "### Linear SVM"
   ]
  },
  {
   "cell_type": "code",
   "execution_count": 12,
   "metadata": {
    "scrolled": true
   },
   "outputs": [
    {
     "name": "stderr",
     "output_type": "stream",
     "text": [
      "/Applications/anaconda3/lib/python3.7/site-packages/sklearn/svm/base.py:931: ConvergenceWarning: Liblinear failed to converge, increase the number of iterations.\n",
      "  \"the number of iterations.\", ConvergenceWarning)\n",
      "/Applications/anaconda3/lib/python3.7/site-packages/sklearn/svm/base.py:931: ConvergenceWarning: Liblinear failed to converge, increase the number of iterations.\n",
      "  \"the number of iterations.\", ConvergenceWarning)\n",
      "/Applications/anaconda3/lib/python3.7/site-packages/sklearn/svm/base.py:931: ConvergenceWarning: Liblinear failed to converge, increase the number of iterations.\n",
      "  \"the number of iterations.\", ConvergenceWarning)\n",
      "/Applications/anaconda3/lib/python3.7/site-packages/sklearn/svm/base.py:931: ConvergenceWarning: Liblinear failed to converge, increase the number of iterations.\n",
      "  \"the number of iterations.\", ConvergenceWarning)\n",
      "/Applications/anaconda3/lib/python3.7/site-packages/sklearn/svm/base.py:931: ConvergenceWarning: Liblinear failed to converge, increase the number of iterations.\n",
      "  \"the number of iterations.\", ConvergenceWarning)\n",
      "/Applications/anaconda3/lib/python3.7/site-packages/sklearn/svm/base.py:931: ConvergenceWarning: Liblinear failed to converge, increase the number of iterations.\n",
      "  \"the number of iterations.\", ConvergenceWarning)\n",
      "/Applications/anaconda3/lib/python3.7/site-packages/sklearn/svm/base.py:931: ConvergenceWarning: Liblinear failed to converge, increase the number of iterations.\n",
      "  \"the number of iterations.\", ConvergenceWarning)\n",
      "/Applications/anaconda3/lib/python3.7/site-packages/sklearn/svm/base.py:931: ConvergenceWarning: Liblinear failed to converge, increase the number of iterations.\n",
      "  \"the number of iterations.\", ConvergenceWarning)\n",
      "/Applications/anaconda3/lib/python3.7/site-packages/sklearn/svm/base.py:931: ConvergenceWarning: Liblinear failed to converge, increase the number of iterations.\n",
      "  \"the number of iterations.\", ConvergenceWarning)\n",
      "/Applications/anaconda3/lib/python3.7/site-packages/sklearn/svm/base.py:931: ConvergenceWarning: Liblinear failed to converge, increase the number of iterations.\n",
      "  \"the number of iterations.\", ConvergenceWarning)\n",
      "/Applications/anaconda3/lib/python3.7/site-packages/sklearn/svm/base.py:931: ConvergenceWarning: Liblinear failed to converge, increase the number of iterations.\n",
      "  \"the number of iterations.\", ConvergenceWarning)\n",
      "/Applications/anaconda3/lib/python3.7/site-packages/sklearn/svm/base.py:931: ConvergenceWarning: Liblinear failed to converge, increase the number of iterations.\n",
      "  \"the number of iterations.\", ConvergenceWarning)\n",
      "/Applications/anaconda3/lib/python3.7/site-packages/sklearn/svm/base.py:931: ConvergenceWarning: Liblinear failed to converge, increase the number of iterations.\n",
      "  \"the number of iterations.\", ConvergenceWarning)\n",
      "/Applications/anaconda3/lib/python3.7/site-packages/sklearn/svm/base.py:931: ConvergenceWarning: Liblinear failed to converge, increase the number of iterations.\n",
      "  \"the number of iterations.\", ConvergenceWarning)\n",
      "/Applications/anaconda3/lib/python3.7/site-packages/sklearn/svm/base.py:931: ConvergenceWarning: Liblinear failed to converge, increase the number of iterations.\n",
      "  \"the number of iterations.\", ConvergenceWarning)\n",
      "/Applications/anaconda3/lib/python3.7/site-packages/sklearn/svm/base.py:931: ConvergenceWarning: Liblinear failed to converge, increase the number of iterations.\n",
      "  \"the number of iterations.\", ConvergenceWarning)\n"
     ]
    },
    {
     "data": {
      "text/plain": [
       "GridSearchCV(cv=3, error_score='raise-deprecating',\n",
       "       estimator=LinearSVC(C=1.0, class_weight=None, dual=True, fit_intercept=True,\n",
       "     intercept_scaling=1, loss='squared_hinge', max_iter=1000,\n",
       "     multi_class='ovr', penalty='l2', random_state=None, tol=0.0001,\n",
       "     verbose=0),\n",
       "       fit_params=None, iid='warn', n_jobs=None,\n",
       "       param_grid={'C': [0.001, 0.01, 0.1, 1, 10]},\n",
       "       pre_dispatch='2*n_jobs', refit=True, return_train_score='warn',\n",
       "       scoring=None, verbose=0)"
      ]
     },
     "execution_count": 12,
     "metadata": {},
     "output_type": "execute_result"
    }
   ],
   "source": [
    "linear_svm = LinearSVC()\n",
    "C = [0.001, .01, .1, 1, 10]\n",
    "params = {'C': C}\n",
    "linear_svm = GridSearchCV(linear_svm, params, cv = 3)\n",
    "linear_svm.fit(X_train, Y_train)"
   ]
  },
  {
   "cell_type": "code",
   "execution_count": 13,
   "metadata": {},
   "outputs": [
    {
     "name": "stdout",
     "output_type": "stream",
     "text": [
      "best parameters:  {'C': 0.001}\n",
      "training accuracy:  83.77173913043478\n",
      "testing accuracy:  85.04347826086956\n"
     ]
    },
    {
     "name": "stderr",
     "output_type": "stream",
     "text": [
      "/Applications/anaconda3/lib/python3.7/site-packages/sklearn/svm/base.py:931: ConvergenceWarning: Liblinear failed to converge, increase the number of iterations.\n",
      "  \"the number of iterations.\", ConvergenceWarning)\n"
     ]
    }
   ],
   "source": [
    "print('best parameters: ', linear_svm.best_params_)\n",
    "C_val = linear_svm.best_params_.get('C')\n",
    "linear_svm = LinearSVC(C = C_val)\n",
    "linear_svm.fit(X_train, Y_train)\n",
    "acc_linear_svm_train = linear_svm.score(X_train, Y_train) * 100\n",
    "print('training accuracy: ', acc_linear_svm_train)\n",
    "acc_linear_svm = linear_svm.score(X_test, Y_test) * 100\n",
    "print('testing accuracy: ', acc_linear_svm)"
   ]
  },
  {
   "cell_type": "markdown",
   "metadata": {},
   "source": [
    "### KNN"
   ]
  },
  {
   "cell_type": "code",
   "execution_count": 14,
   "metadata": {},
   "outputs": [
    {
     "data": {
      "text/plain": [
       "GridSearchCV(cv=3, error_score='raise-deprecating',\n",
       "       estimator=KNeighborsClassifier(algorithm='auto', leaf_size=30, metric='minkowski',\n",
       "           metric_params=None, n_jobs=None, n_neighbors=5, p=2,\n",
       "           weights='uniform'),\n",
       "       fit_params=None, iid='warn', n_jobs=None,\n",
       "       param_grid={'n_neighbors': array([ 1,  2,  3,  4,  5,  6,  7,  8,  9, 10, 11, 12, 13, 14])},\n",
       "       pre_dispatch='2*n_jobs', refit=True, return_train_score='warn',\n",
       "       scoring=None, verbose=0)"
      ]
     },
     "execution_count": 14,
     "metadata": {},
     "output_type": "execute_result"
    }
   ],
   "source": [
    "knn = KNeighborsClassifier()\n",
    "k_vals = {'n_neighbors': np.arange(1, 15)}\n",
    "knn = GridSearchCV(knn, k_vals, cv = 3)\n",
    "knn.fit(X_train, Y_train)"
   ]
  },
  {
   "cell_type": "code",
   "execution_count": 15,
   "metadata": {},
   "outputs": [
    {
     "name": "stdout",
     "output_type": "stream",
     "text": [
      "best parameters:  {'n_neighbors': 1}\n",
      "training accuracy:  100.0\n",
      "testing accuracy:  95.26086956521739\n"
     ]
    }
   ],
   "source": [
    "print('best parameters: ', knn.best_params_)\n",
    "neighbs = knn.best_params_.get('n_neighbors')\n",
    "knn = KNeighborsClassifier(n_neighbors = neighbs)\n",
    "knn.fit(X_train, Y_train)\n",
    "acc_knn_train = knn.score(X_train, Y_train) * 100\n",
    "print('training accuracy: ', acc_knn_train)\n",
    "acc_knn = knn.score(X_test, Y_test) * 100\n",
    "print('testing accuracy: ', acc_knn)"
   ]
  },
  {
   "cell_type": "markdown",
   "metadata": {},
   "source": [
    "### Decision Tree"
   ]
  },
  {
   "cell_type": "code",
   "execution_count": 16,
   "metadata": {},
   "outputs": [
    {
     "data": {
      "text/plain": [
       "GridSearchCV(cv=3, error_score='raise-deprecating',\n",
       "       estimator=DecisionTreeClassifier(class_weight=None, criterion='gini', max_depth=None,\n",
       "            max_features=None, max_leaf_nodes=None,\n",
       "            min_impurity_decrease=0.0, min_impurity_split=None,\n",
       "            min_samples_leaf=1, min_samples_split=2,\n",
       "            min_weight_fraction_leaf=0.0, presort=False, random_state=None,\n",
       "            splitter='best'),\n",
       "       fit_params=None, iid='warn', n_jobs=None,\n",
       "       param_grid={'max_depth': array([ 1,  2,  3,  4,  5,  6,  7,  8,  9, 10, 11, 12, 13, 14]), 'criterion': ['entropy', 'gini']},\n",
       "       pre_dispatch='2*n_jobs', refit=True, return_train_score='warn',\n",
       "       scoring=None, verbose=0)"
      ]
     },
     "execution_count": 16,
     "metadata": {},
     "output_type": "execute_result"
    }
   ],
   "source": [
    "dt = DecisionTreeClassifier()\n",
    "params = {'max_depth': np.arange(1, 15), 'criterion': ['entropy', 'gini']}\n",
    "dt = GridSearchCV(dt, params, cv = 3)\n",
    "dt.fit(X_train, Y_train)"
   ]
  },
  {
   "cell_type": "code",
   "execution_count": 17,
   "metadata": {},
   "outputs": [
    {
     "name": "stdout",
     "output_type": "stream",
     "text": [
      "best parameters:  {'criterion': 'entropy', 'max_depth': 13}\n",
      "training accuracy:  98.98913043478261\n",
      "testing accuracy:  94.47826086956522\n"
     ]
    }
   ],
   "source": [
    "print('best parameters: ', dt.best_params_)\n",
    "depth = dt.best_params_.get('max_depth') \n",
    "cr = dt.best_params_.get('criterion')\n",
    "dt = DecisionTreeClassifier(max_depth = depth, criterion = cr)\n",
    "dt.fit(X_train, Y_train)\n",
    "acc_dt_train = dt.score(X_train, Y_train) * 100\n",
    "print('training accuracy: ', acc_dt_train)\n",
    "acc_dt = dt.score(X_test, Y_test) * 100\n",
    "print('testing accuracy: ', acc_dt)"
   ]
  },
  {
   "cell_type": "markdown",
   "metadata": {},
   "source": [
    "### LDA"
   ]
  },
  {
   "cell_type": "code",
   "execution_count": 18,
   "metadata": {},
   "outputs": [
    {
     "data": {
      "text/plain": [
       "GridSearchCV(cv=3, error_score='raise-deprecating',\n",
       "       estimator=LinearDiscriminantAnalysis(n_components=None, priors=None, shrinkage=None,\n",
       "              solver='svd', store_covariance=False, tol=0.0001),\n",
       "       fit_params=None, iid='warn', n_jobs=None,\n",
       "       param_grid={'solver': ['svd', 'lsqr', 'eigen']},\n",
       "       pre_dispatch='2*n_jobs', refit=True, return_train_score='warn',\n",
       "       scoring=None, verbose=0)"
      ]
     },
     "execution_count": 18,
     "metadata": {},
     "output_type": "execute_result"
    }
   ],
   "source": [
    "lda = LinearDiscriminantAnalysis()\n",
    "params = {'solver': ['svd', 'lsqr', 'eigen']}\n",
    "lda = GridSearchCV(lda, params, cv = 3)\n",
    "lda.fit(X_train, Y_train)"
   ]
  },
  {
   "cell_type": "code",
   "execution_count": 19,
   "metadata": {},
   "outputs": [
    {
     "name": "stdout",
     "output_type": "stream",
     "text": [
      "best parameters:  {'solver': 'svd'}\n",
      "training accuracy:  83.04347826086956\n",
      "testing accuracy:  82.86956521739131\n"
     ]
    }
   ],
   "source": [
    "print('best parameters: ', lda.best_params_)\n",
    "sol = lda.best_params_.get('solver')\n",
    "lda = LinearDiscriminantAnalysis(solver = sol)\n",
    "lda.fit(X_train, Y_train)\n",
    "acc_lda_train = lda.score(X_train, Y_train) * 100\n",
    "print('training accuracy: ', acc_lda_train)\n",
    "acc_lda = lda.score(X_test, Y_test) * 100\n",
    "print('testing accuracy: ', acc_lda)"
   ]
  },
  {
   "cell_type": "markdown",
   "metadata": {},
   "source": [
    "### Random Forest"
   ]
  },
  {
   "cell_type": "code",
   "execution_count": 20,
   "metadata": {},
   "outputs": [
    {
     "data": {
      "text/plain": [
       "GridSearchCV(cv=3, error_score='raise-deprecating',\n",
       "       estimator=RandomForestClassifier(bootstrap=True, class_weight=None, criterion='gini',\n",
       "            max_depth=None, max_features='auto', max_leaf_nodes=None,\n",
       "            min_impurity_decrease=0.0, min_impurity_split=None,\n",
       "            min_samples_leaf=1, min_samples_split=2,\n",
       "            min_weight_fraction_leaf=0.0, n_estimators=1024, n_jobs=None,\n",
       "            oob_score=False, random_state=None, verbose=0,\n",
       "            warm_start=False),\n",
       "       fit_params=None, iid='warn', n_jobs=None,\n",
       "       param_grid={'max_features': ['sqrt', 'log2'], 'criterion': ['gini', 'entropy']},\n",
       "       pre_dispatch='2*n_jobs', refit=True, return_train_score='warn',\n",
       "       scoring=None, verbose=0)"
      ]
     },
     "execution_count": 20,
     "metadata": {},
     "output_type": "execute_result"
    }
   ],
   "source": [
    "paramfeat = {'max_features':['sqrt', 'log2'], 'criterion': ['gini', 'entropy']}\n",
    "rf = RandomForestClassifier(n_estimators=1024)\n",
    "rf = GridSearchCV(rf, paramfeat, cv=3)\n",
    "rf.fit(X_train, Y_train)"
   ]
  },
  {
   "cell_type": "code",
   "execution_count": 21,
   "metadata": {},
   "outputs": [
    {
     "name": "stdout",
     "output_type": "stream",
     "text": [
      "best parameters:  {'criterion': 'gini', 'max_features': 'sqrt'}\n"
     ]
    },
    {
     "name": "stderr",
     "output_type": "stream",
     "text": [
      "/Applications/anaconda3/lib/python3.7/site-packages/sklearn/ensemble/forest.py:246: FutureWarning: The default value of n_estimators will change from 10 in version 0.20 to 100 in 0.22.\n",
      "  \"10 in version 0.20 to 100 in 0.22.\", FutureWarning)\n"
     ]
    },
    {
     "name": "stdout",
     "output_type": "stream",
     "text": [
      "training accuracy:  99.90217391304348\n",
      "testing accuracy:  97.30434782608695\n"
     ]
    }
   ],
   "source": [
    "print('best parameters: ', rf.best_params_)\n",
    "feats = rf.best_params_.get('max_features') \n",
    "cr = rf.best_params_.get('criterion')\n",
    "rf = RandomForestClassifier(max_features = feats, criterion = cr)\n",
    "rf.fit(X_train, Y_train)\n",
    "acc_rf_train = rf.score(X_train, Y_train) * 100\n",
    "print('training accuracy: ', acc_rf_train)\n",
    "acc_rf = rf.score(X_test, Y_test) * 100\n",
    "print('testing accuracy: ', acc_rf)"
   ]
  },
  {
   "cell_type": "markdown",
   "metadata": {},
   "source": [
    "### ANN"
   ]
  },
  {
   "cell_type": "code",
   "execution_count": 22,
   "metadata": {
    "scrolled": true
   },
   "outputs": [
    {
     "name": "stderr",
     "output_type": "stream",
     "text": [
      "WARNING: Logging before flag parsing goes to stderr.\n",
      "W0312 11:08:23.715127 4508984768 deprecation_wrapper.py:119] From /Applications/anaconda3/lib/python3.7/site-packages/keras/backend/tensorflow_backend.py:74: The name tf.get_default_graph is deprecated. Please use tf.compat.v1.get_default_graph instead.\n",
      "\n",
      "/Applications/anaconda3/lib/python3.7/site-packages/ipykernel_launcher.py:2: UserWarning: Update your `Dense` call to the Keras 2 API: `Dense(activation=\"relu\", input_dim=178, units=80, kernel_initializer=\"uniform\")`\n",
      "  \n",
      "W0312 11:08:23.732647 4508984768 deprecation_wrapper.py:119] From /Applications/anaconda3/lib/python3.7/site-packages/keras/backend/tensorflow_backend.py:517: The name tf.placeholder is deprecated. Please use tf.compat.v1.placeholder instead.\n",
      "\n",
      "W0312 11:08:23.734588 4508984768 deprecation_wrapper.py:119] From /Applications/anaconda3/lib/python3.7/site-packages/keras/backend/tensorflow_backend.py:4138: The name tf.random_uniform is deprecated. Please use tf.random.uniform instead.\n",
      "\n",
      "/Applications/anaconda3/lib/python3.7/site-packages/ipykernel_launcher.py:3: UserWarning: Update your `Dense` call to the Keras 2 API: `Dense(activation=\"relu\", units=80, kernel_initializer=\"uniform\")`\n",
      "  This is separate from the ipykernel package so we can avoid doing imports until\n",
      "/Applications/anaconda3/lib/python3.7/site-packages/ipykernel_launcher.py:4: UserWarning: Update your `Dense` call to the Keras 2 API: `Dense(activation=\"sigmoid\", units=1, kernel_initializer=\"uniform\")`\n",
      "  after removing the cwd from sys.path.\n",
      "W0312 11:08:23.767445 4508984768 deprecation_wrapper.py:119] From /Applications/anaconda3/lib/python3.7/site-packages/keras/optimizers.py:790: The name tf.train.Optimizer is deprecated. Please use tf.compat.v1.train.Optimizer instead.\n",
      "\n",
      "W0312 11:08:23.782228 4508984768 deprecation_wrapper.py:119] From /Applications/anaconda3/lib/python3.7/site-packages/keras/backend/tensorflow_backend.py:3376: The name tf.log is deprecated. Please use tf.math.log instead.\n",
      "\n",
      "W0312 11:08:23.785655 4508984768 deprecation.py:323] From /Applications/anaconda3/lib/python3.7/site-packages/tensorflow/python/ops/nn_impl.py:180: add_dispatch_support.<locals>.wrapper (from tensorflow.python.ops.array_ops) is deprecated and will be removed in a future version.\n",
      "Instructions for updating:\n",
      "Use tf.where in 2.0, which has the same broadcast rule as np.where\n",
      "/Applications/anaconda3/lib/python3.7/site-packages/ipykernel_launcher.py:6: UserWarning: The `nb_epoch` argument in `fit` has been renamed `epochs`.\n",
      "  \n",
      "W0312 11:08:23.976900 4508984768 deprecation_wrapper.py:119] From /Applications/anaconda3/lib/python3.7/site-packages/keras/backend/tensorflow_backend.py:986: The name tf.assign_add is deprecated. Please use tf.compat.v1.assign_add instead.\n",
      "\n"
     ]
    },
    {
     "name": "stdout",
     "output_type": "stream",
     "text": [
      "Epoch 1/100\n",
      "9200/9200 [==============================] - 1s 91us/step - loss: 0.4393 - acc: 0.8501\n",
      "Epoch 2/100\n",
      "9200/9200 [==============================] - 1s 68us/step - loss: 0.2837 - acc: 0.9401: 0s - loss: 0.3091 - acc: 0 - ETA: 0s - loss: 0.2872 - acc: 0.94\n",
      "Epoch 3/100\n",
      "9200/9200 [==============================] - 1s 69us/step - loss: 0.2234 - acc: 0.9523\n",
      "Epoch 4/100\n",
      "9200/9200 [==============================] - 1s 64us/step - loss: 0.1796 - acc: 0.9592\n",
      "Epoch 5/100\n",
      "9200/9200 [==============================] - 1s 68us/step - loss: 0.1454 - acc: 0.9637\n",
      "Epoch 6/100\n",
      "9200/9200 [==============================] - 1s 68us/step - loss: 0.1213 - acc: 0.9690\n",
      "Epoch 7/100\n",
      "9200/9200 [==============================] - 1s 68us/step - loss: 0.1229 - acc: 0.9672\n",
      "Epoch 8/100\n",
      "9200/9200 [==============================] - 1s 68us/step - loss: 0.0976 - acc: 0.9764\n",
      "Epoch 9/100\n",
      "9200/9200 [==============================] - 1s 68us/step - loss: 0.0827 - acc: 0.9798\n",
      "Epoch 10/100\n",
      "9200/9200 [==============================] - 1s 68us/step - loss: 0.0960 - acc: 0.9739\n",
      "Epoch 11/100\n",
      "9200/9200 [==============================] - 1s 70us/step - loss: 0.0731 - acc: 0.9811: 0s - loss: 0.0756 - acc: 0.98\n",
      "Epoch 12/100\n",
      "9200/9200 [==============================] - 1s 67us/step - loss: 0.0722 - acc: 0.9808\n",
      "Epoch 13/100\n",
      "9200/9200 [==============================] - 1s 63us/step - loss: 0.0656 - acc: 0.9815\n",
      "Epoch 14/100\n",
      "9200/9200 [==============================] - 1s 68us/step - loss: 0.0598 - acc: 0.9810\n",
      "Epoch 15/100\n",
      "9200/9200 [==============================] - 1s 68us/step - loss: 0.0544 - acc: 0.9861\n",
      "Epoch 16/100\n",
      "9200/9200 [==============================] - 1s 68us/step - loss: 0.0468 - acc: 0.9885\n",
      "Epoch 17/100\n",
      "9200/9200 [==============================] - 1s 68us/step - loss: 0.0503 - acc: 0.9843\n",
      "Epoch 18/100\n",
      "9200/9200 [==============================] - 1s 68us/step - loss: 0.0496 - acc: 0.9861\n",
      "Epoch 19/100\n",
      "9200/9200 [==============================] - 1s 68us/step - loss: 0.0596 - acc: 0.9840\n",
      "Epoch 20/100\n",
      "9200/9200 [==============================] - 1s 68us/step - loss: 0.0392 - acc: 0.9900\n",
      "Epoch 21/100\n",
      "9200/9200 [==============================] - 1s 68us/step - loss: 0.0351 - acc: 0.9905\n",
      "Epoch 22/100\n",
      "9200/9200 [==============================] - 1s 68us/step - loss: 0.0387 - acc: 0.9902: 0s - loss: 0.0326 - acc: 0\n",
      "Epoch 23/100\n",
      "9200/9200 [==============================] - 1s 68us/step - loss: 0.0393 - acc: 0.9872\n",
      "Epoch 24/100\n",
      "9200/9200 [==============================] - 1s 68us/step - loss: 0.0464 - acc: 0.9883\n",
      "Epoch 25/100\n",
      "9200/9200 [==============================] - 1s 65us/step - loss: 0.0302 - acc: 0.9928\n",
      "Epoch 26/100\n",
      "9200/9200 [==============================] - 1s 68us/step - loss: 0.0346 - acc: 0.9917\n",
      "Epoch 27/100\n",
      "9200/9200 [==============================] - 1s 68us/step - loss: 0.0297 - acc: 0.9920\n",
      "Epoch 28/100\n",
      "9200/9200 [==============================] - 1s 67us/step - loss: 0.0301 - acc: 0.9918\n",
      "Epoch 29/100\n",
      "9200/9200 [==============================] - 1s 63us/step - loss: 0.0363 - acc: 0.9891\n",
      "Epoch 30/100\n",
      "9200/9200 [==============================] - 1s 68us/step - loss: 0.0248 - acc: 0.9926: 0s - loss: 0.0238 - acc: 0.99\n",
      "Epoch 31/100\n",
      "9200/9200 [==============================] - 1s 68us/step - loss: 0.0258 - acc: 0.9933\n",
      "Epoch 32/100\n",
      "9200/9200 [==============================] - 1s 68us/step - loss: 0.0323 - acc: 0.9904\n",
      "Epoch 33/100\n",
      "9200/9200 [==============================] - 1s 68us/step - loss: 0.0319 - acc: 0.9912\n",
      "Epoch 34/100\n",
      "9200/9200 [==============================] - 1s 68us/step - loss: 0.0290 - acc: 0.9915\n",
      "Epoch 35/100\n",
      "9200/9200 [==============================] - 1s 67us/step - loss: 0.0264 - acc: 0.9927\n",
      "Epoch 36/100\n",
      "9200/9200 [==============================] - 1s 67us/step - loss: 0.0217 - acc: 0.9933\n",
      "Epoch 37/100\n",
      "9200/9200 [==============================] - 1s 68us/step - loss: 0.0311 - acc: 0.9914\n",
      "Epoch 38/100\n",
      "9200/9200 [==============================] - 1s 68us/step - loss: 0.0251 - acc: 0.9929\n",
      "Epoch 39/100\n",
      "9200/9200 [==============================] - 1s 68us/step - loss: 0.0171 - acc: 0.9953: 0s - loss: 0.0173 - acc: 0.995\n",
      "Epoch 40/100\n",
      "9200/9200 [==============================] - 1s 68us/step - loss: 0.0171 - acc: 0.9955\n",
      "Epoch 41/100\n",
      "9200/9200 [==============================] - 1s 69us/step - loss: 0.0210 - acc: 0.9947: 0s - loss: 0.0146 - acc\n",
      "Epoch 42/100\n",
      "9200/9200 [==============================] - 1s 68us/step - loss: 0.0423 - acc: 0.9877\n",
      "Epoch 43/100\n",
      "9200/9200 [==============================] - 1s 68us/step - loss: 0.0243 - acc: 0.9928TA: 0s - loss: 0.0254 - ac\n",
      "Epoch 44/100\n",
      "9200/9200 [==============================] - 1s 67us/step - loss: 0.0177 - acc: 0.9946\n",
      "Epoch 45/100\n",
      "9200/9200 [==============================] - 1s 67us/step - loss: 0.0221 - acc: 0.9938: 0s - loss: 0.0232 - acc: 0\n",
      "Epoch 46/100\n",
      "9200/9200 [==============================] - 1s 68us/step - loss: 0.0171 - acc: 0.9952\n",
      "Epoch 47/100\n",
      "9200/9200 [==============================] - 1s 68us/step - loss: 0.0272 - acc: 0.9926\n",
      "Epoch 48/100\n",
      "9200/9200 [==============================] - 1s 68us/step - loss: 0.0247 - acc: 0.9926\n",
      "Epoch 49/100\n",
      "9200/9200 [==============================] - 1s 68us/step - loss: 0.0221 - acc: 0.9932\n",
      "Epoch 50/100\n",
      "9200/9200 [==============================] - 1s 69us/step - loss: 0.0248 - acc: 0.9932: 0s - loss: 0.0233 - acc: 0.993\n",
      "Epoch 51/100\n",
      "9200/9200 [==============================] - 1s 68us/step - loss: 0.0240 - acc: 0.9925: 0s - loss: 0.0232 - acc: 0.992\n",
      "Epoch 52/100\n",
      "9200/9200 [==============================] - 1s 66us/step - loss: 0.0254 - acc: 0.9942\n",
      "Epoch 53/100\n",
      "9200/9200 [==============================] - 1s 65us/step - loss: 0.0215 - acc: 0.9947\n",
      "Epoch 54/100\n",
      "9200/9200 [==============================] - 1s 68us/step - loss: 0.0389 - acc: 0.9888\n",
      "Epoch 55/100\n",
      "9200/9200 [==============================] - 1s 68us/step - loss: 0.0450 - acc: 0.9920\n",
      "Epoch 56/100\n",
      "9200/9200 [==============================] - 1s 67us/step - loss: 0.0152 - acc: 0.9964: 0s - loss: 0.0168 - acc: \n",
      "Epoch 57/100\n",
      "9200/9200 [==============================] - 1s 68us/step - loss: 0.0102 - acc: 0.9972: 0s - loss: 0.0094 - acc: \n",
      "Epoch 58/100\n",
      "9200/9200 [==============================] - 1s 68us/step - loss: 0.0280 - acc: 0.9917\n",
      "Epoch 59/100\n",
      "9200/9200 [==============================] - 1s 70us/step - loss: 0.0254 - acc: 0.9945\n",
      "Epoch 60/100\n",
      "9200/9200 [==============================] - 1s 67us/step - loss: 0.0114 - acc: 0.9975\n",
      "Epoch 61/100\n",
      "9200/9200 [==============================] - 1s 68us/step - loss: 0.0209 - acc: 0.9945\n",
      "Epoch 62/100\n",
      "9200/9200 [==============================] - 1s 68us/step - loss: 0.0217 - acc: 0.9948\n",
      "Epoch 63/100\n",
      "9200/9200 [==============================] - 1s 68us/step - loss: 0.0205 - acc: 0.9951: 0s - loss: 0.0123 - acc: \n",
      "Epoch 64/100\n",
      "9200/9200 [==============================] - 1s 68us/step - loss: 0.0188 - acc: 0.9939\n",
      "Epoch 65/100\n",
      "9200/9200 [==============================] - 1s 68us/step - loss: 0.0139 - acc: 0.9970: 0s - loss: 0.0142 - acc: 0.997\n",
      "Epoch 66/100\n",
      "9200/9200 [==============================] - 1s 68us/step - loss: 0.0163 - acc: 0.9960: 0s - loss: 0.0136 - acc: 0.9\n",
      "Epoch 67/100\n",
      "9200/9200 [==============================] - 1s 69us/step - loss: 0.0220 - acc: 0.9930\n",
      "Epoch 68/100\n",
      "9200/9200 [==============================] - 1s 66us/step - loss: 0.0368 - acc: 0.9909\n",
      "Epoch 69/100\n",
      "9200/9200 [==============================] - 1s 68us/step - loss: 0.0168 - acc: 0.9957\n",
      "Epoch 70/100\n",
      "9200/9200 [==============================] - 1s 68us/step - loss: 0.0098 - acc: 0.9985\n",
      "Epoch 71/100\n",
      "9200/9200 [==============================] - 1s 68us/step - loss: 0.0158 - acc: 0.9955\n",
      "Epoch 72/100\n",
      "9200/9200 [==============================] - 1s 68us/step - loss: 0.0220 - acc: 0.9948\n",
      "Epoch 73/100\n",
      "9200/9200 [==============================] - 1s 69us/step - loss: 0.0215 - acc: 0.9939\n",
      "Epoch 74/100\n",
      "9200/9200 [==============================] - 1s 68us/step - loss: 0.0106 - acc: 0.9971\n",
      "Epoch 75/100\n",
      "9200/9200 [==============================] - 1s 65us/step - loss: 0.0187 - acc: 0.9954\n",
      "Epoch 76/100\n",
      "9200/9200 [==============================] - 1s 68us/step - loss: 0.0180 - acc: 0.9952: 0s - loss: 0.0160 - acc: 0. - ETA: 0s - loss: 0.0185 - acc: 0.995\n",
      "Epoch 77/100\n"
     ]
    },
    {
     "name": "stdout",
     "output_type": "stream",
     "text": [
      "9200/9200 [==============================] - 1s 68us/step - loss: 0.0133 - acc: 0.9966\n",
      "Epoch 78/100\n",
      "9200/9200 [==============================] - 1s 68us/step - loss: 0.0245 - acc: 0.9935\n",
      "Epoch 79/100\n",
      "9200/9200 [==============================] - 1s 68us/step - loss: 0.0163 - acc: 0.9957\n",
      "Epoch 80/100\n",
      "9200/9200 [==============================] - 1s 67us/step - loss: 0.0175 - acc: 0.9947\n",
      "Epoch 81/100\n",
      "9200/9200 [==============================] - 1s 63us/step - loss: 0.0152 - acc: 0.9966\n",
      "Epoch 82/100\n",
      "9200/9200 [==============================] - ETA: 0s - loss: 0.0163 - acc: 0.995 - 1s 66us/step - loss: 0.0155 - acc: 0.9955\n",
      "Epoch 83/100\n",
      "9200/9200 [==============================] - 1s 65us/step - loss: 0.0196 - acc: 0.9939\n",
      "Epoch 84/100\n",
      "9200/9200 [==============================] - 1s 67us/step - loss: 0.0097 - acc: 0.9978\n",
      "Epoch 85/100\n",
      "9200/9200 [==============================] - 1s 63us/step - loss: 0.0252 - acc: 0.9932\n",
      "Epoch 86/100\n",
      "9200/9200 [==============================] - 1s 67us/step - loss: 0.0222 - acc: 0.9932\n",
      "Epoch 87/100\n",
      "9200/9200 [==============================] - 1s 69us/step - loss: 0.0080 - acc: 0.9984\n",
      "Epoch 88/100\n",
      "9200/9200 [==============================] - 1s 68us/step - loss: 0.0048 - acc: 0.9996\n",
      "Epoch 89/100\n",
      "9200/9200 [==============================] - 1s 68us/step - loss: 0.0139 - acc: 0.9966\n",
      "Epoch 90/100\n",
      "9200/9200 [==============================] - 1s 68us/step - loss: 0.0193 - acc: 0.9948\n",
      "Epoch 91/100\n",
      "9200/9200 [==============================] - 1s 68us/step - loss: 0.0095 - acc: 0.9971\n",
      "Epoch 92/100\n",
      "9200/9200 [==============================] - 1s 68us/step - loss: 0.0134 - acc: 0.9965: 0s - loss: 0.0128 - acc: 0\n",
      "Epoch 93/100\n",
      "9200/9200 [==============================] - 1s 67us/step - loss: 0.0239 - acc: 0.9937\n",
      "Epoch 94/100\n",
      "9200/9200 [==============================] - 1s 68us/step - loss: 0.0170 - acc: 0.9959\n",
      "Epoch 95/100\n",
      "9200/9200 [==============================] - 1s 68us/step - loss: 0.0178 - acc: 0.9960\n",
      "Epoch 96/100\n",
      "9200/9200 [==============================] - 1s 66us/step - loss: 0.0149 - acc: 0.9959\n",
      "Epoch 97/100\n",
      "9200/9200 [==============================] - 1s 68us/step - loss: 0.0067 - acc: 0.9988\n",
      "Epoch 98/100\n",
      "9200/9200 [==============================] - 1s 68us/step - loss: 0.0057 - acc: 0.9990\n",
      "Epoch 99/100\n",
      "9200/9200 [==============================] - 1s 68us/step - loss: 0.0236 - acc: 0.9934\n",
      "Epoch 100/100\n",
      "9200/9200 [==============================] - 1s 70us/step - loss: 0.0123 - acc: 0.9965\n"
     ]
    },
    {
     "data": {
      "text/plain": [
       "<keras.callbacks.History at 0x1a3e1002e8>"
      ]
     },
     "execution_count": 22,
     "metadata": {},
     "output_type": "execute_result"
    }
   ],
   "source": [
    "ann1 = Sequential()\n",
    "ann1.add(Dense(output_dim = 80, init = 'uniform', activation = 'relu', input_dim = 178))\n",
    "ann1.add(Dense(output_dim = 80, init = 'uniform', activation = 'relu'))\n",
    "ann1.add(Dense(output_dim = 1, init = 'uniform', activation = 'sigmoid'))\n",
    "ann1.compile(optimizer = 'adam', loss = 'binary_crossentropy', metrics = ['accuracy'])\n",
    "ann1.fit(X_train, Y_train, batch_size = 10, nb_epoch = 100)"
   ]
  },
  {
   "cell_type": "code",
   "execution_count": 23,
   "metadata": {},
   "outputs": [
    {
     "name": "stdout",
     "output_type": "stream",
     "text": [
      "testing accuracy:  95.43478260869566\n"
     ]
    }
   ],
   "source": [
    "Y_pred1 = ann1.predict(X_test)\n",
    "Y_pred1[Y_pred1 > 0.5] = 1\n",
    "Y_pred1[Y_pred1 <= 0.5] = 0\n",
    "acc_ann1 = accuracy_score(Y_test, Y_pred1) * 100\n",
    "print('testing accuracy: ', acc_ann1)"
   ]
  },
  {
   "cell_type": "code",
   "execution_count": 24,
   "metadata": {
    "scrolled": true
   },
   "outputs": [
    {
     "name": "stderr",
     "output_type": "stream",
     "text": [
      "/Applications/anaconda3/lib/python3.7/site-packages/ipykernel_launcher.py:2: UserWarning: Update your `Dense` call to the Keras 2 API: `Dense(activation=\"relu\", input_dim=178, units=80, kernel_initializer=\"uniform\")`\n",
      "  \n",
      "/Applications/anaconda3/lib/python3.7/site-packages/ipykernel_launcher.py:3: UserWarning: Update your `Dense` call to the Keras 2 API: `Dense(activation=\"relu\", units=80, kernel_initializer=\"uniform\")`\n",
      "  This is separate from the ipykernel package so we can avoid doing imports until\n",
      "/Applications/anaconda3/lib/python3.7/site-packages/ipykernel_launcher.py:4: UserWarning: Update your `Dense` call to the Keras 2 API: `Dense(activation=\"sigmoid\", units=1, kernel_initializer=\"uniform\")`\n",
      "  after removing the cwd from sys.path.\n",
      "/Applications/anaconda3/lib/python3.7/site-packages/ipykernel_launcher.py:6: UserWarning: The `nb_epoch` argument in `fit` has been renamed `epochs`.\n",
      "  \n"
     ]
    },
    {
     "name": "stdout",
     "output_type": "stream",
     "text": [
      "Epoch 1/100\n",
      "9200/9200 [==============================] - 1s 79us/step - loss: 0.2015 - acc: 0.7987\n",
      "Epoch 2/100\n",
      "9200/9200 [==============================] - 1s 59us/step - loss: 0.2012 - acc: 0.7988\n",
      "Epoch 3/100\n",
      "9200/9200 [==============================] - 1s 59us/step - loss: 0.2012 - acc: 0.7988\n",
      "Epoch 4/100\n",
      "9200/9200 [==============================] - 1s 59us/step - loss: 0.2012 - acc: 0.7988\n",
      "Epoch 5/100\n",
      "9200/9200 [==============================] - 1s 59us/step - loss: 0.2012 - acc: 0.7988\n",
      "Epoch 6/100\n",
      "9200/9200 [==============================] - 1s 59us/step - loss: 0.2012 - acc: 0.7988\n",
      "Epoch 7/100\n",
      "9200/9200 [==============================] - 1s 58us/step - loss: 0.2012 - acc: 0.7988\n",
      "Epoch 8/100\n",
      "9200/9200 [==============================] - 1s 61us/step - loss: 0.2011 - acc: 0.7988\n",
      "Epoch 9/100\n",
      "9200/9200 [==============================] - 1s 59us/step - loss: 0.2012 - acc: 0.7988\n",
      "Epoch 10/100\n",
      "9200/9200 [==============================] - 1s 58us/step - loss: 0.2012 - acc: 0.7988\n",
      "Epoch 11/100\n",
      "9200/9200 [==============================] - 1s 63us/step - loss: 0.2012 - acc: 0.7988\n",
      "Epoch 12/100\n",
      "9200/9200 [==============================] - 1s 58us/step - loss: 0.2012 - acc: 0.7988\n",
      "Epoch 13/100\n",
      "9200/9200 [==============================] - 1s 62us/step - loss: 0.2012 - acc: 0.7988\n",
      "Epoch 14/100\n",
      "9200/9200 [==============================] - 1s 62us/step - loss: 0.2012 - acc: 0.7988\n",
      "Epoch 15/100\n",
      "9200/9200 [==============================] - 1s 60us/step - loss: 0.2012 - acc: 0.7988\n",
      "Epoch 16/100\n",
      "9200/9200 [==============================] - 1s 58us/step - loss: 0.2012 - acc: 0.7988\n",
      "Epoch 17/100\n",
      "9200/9200 [==============================] - 1s 59us/step - loss: 0.2012 - acc: 0.7988\n",
      "Epoch 18/100\n",
      "9200/9200 [==============================] - 1s 58us/step - loss: 0.2012 - acc: 0.7988\n",
      "Epoch 19/100\n",
      "9200/9200 [==============================] - 1s 59us/step - loss: 0.2012 - acc: 0.7988\n",
      "Epoch 20/100\n",
      "9200/9200 [==============================] - 1s 58us/step - loss: 0.2012 - acc: 0.7988\n",
      "Epoch 21/100\n",
      "9200/9200 [==============================] - 1s 60us/step - loss: 0.2012 - acc: 0.7988\n",
      "Epoch 22/100\n",
      "9200/9200 [==============================] - 1s 59us/step - loss: 0.2012 - acc: 0.7988\n",
      "Epoch 23/100\n",
      "9200/9200 [==============================] - 1s 57us/step - loss: 0.2012 - acc: 0.7988\n",
      "Epoch 24/100\n",
      "9200/9200 [==============================] - 1s 59us/step - loss: 0.2012 - acc: 0.7988\n",
      "Epoch 25/100\n",
      "9200/9200 [==============================] - 1s 57us/step - loss: 0.2012 - acc: 0.7988\n",
      "Epoch 26/100\n",
      "9200/9200 [==============================] - 1s 58us/step - loss: 0.2012 - acc: 0.7988\n",
      "Epoch 27/100\n",
      "9200/9200 [==============================] - 1s 58us/step - loss: 0.2012 - acc: 0.7988\n",
      "Epoch 28/100\n",
      "9200/9200 [==============================] - 1s 59us/step - loss: 0.2012 - acc: 0.7988\n",
      "Epoch 29/100\n",
      "9200/9200 [==============================] - 1s 57us/step - loss: 0.2012 - acc: 0.7988\n",
      "Epoch 30/100\n",
      "9200/9200 [==============================] - 1s 57us/step - loss: 0.2012 - acc: 0.7988\n",
      "Epoch 31/100\n",
      "9200/9200 [==============================] - 1s 57us/step - loss: 0.2012 - acc: 0.7988\n",
      "Epoch 32/100\n",
      "9200/9200 [==============================] - 1s 58us/step - loss: 0.2012 - acc: 0.7988\n",
      "Epoch 33/100\n",
      "9200/9200 [==============================] - 1s 59us/step - loss: 0.2012 - acc: 0.7988\n",
      "Epoch 34/100\n",
      "9200/9200 [==============================] - 1s 59us/step - loss: 0.2012 - acc: 0.7988: 0s - loss: 0.2003 - acc: 0.799\n",
      "Epoch 35/100\n",
      "9200/9200 [==============================] - 1s 58us/step - loss: 0.2012 - acc: 0.7988\n",
      "Epoch 36/100\n",
      "9200/9200 [==============================] - 1s 64us/step - loss: 0.2012 - acc: 0.7988\n",
      "Epoch 37/100\n",
      "9200/9200 [==============================] - 1s 58us/step - loss: 0.2012 - acc: 0.7988\n",
      "Epoch 38/100\n",
      "9200/9200 [==============================] - 1s 58us/step - loss: 0.2012 - acc: 0.7988\n",
      "Epoch 39/100\n",
      "9200/9200 [==============================] - 1s 58us/step - loss: 0.2012 - acc: 0.7988\n",
      "Epoch 40/100\n",
      "9200/9200 [==============================] - 1s 58us/step - loss: 0.2012 - acc: 0.7988\n",
      "Epoch 41/100\n",
      "9200/9200 [==============================] - 1s 58us/step - loss: 0.2012 - acc: 0.7988\n",
      "Epoch 42/100\n",
      "9200/9200 [==============================] - 1s 57us/step - loss: 0.2012 - acc: 0.7988\n",
      "Epoch 43/100\n",
      "9200/9200 [==============================] - 1s 60us/step - loss: 0.2012 - acc: 0.7988\n",
      "Epoch 44/100\n",
      "9200/9200 [==============================] - 1s 57us/step - loss: 0.2012 - acc: 0.7988\n",
      "Epoch 45/100\n",
      "9200/9200 [==============================] - 1s 60us/step - loss: 0.2012 - acc: 0.7988\n",
      "Epoch 46/100\n",
      "9200/9200 [==============================] - 1s 58us/step - loss: 0.2012 - acc: 0.7988\n",
      "Epoch 47/100\n",
      "9200/9200 [==============================] - 1s 57us/step - loss: 0.2012 - acc: 0.7988\n",
      "Epoch 48/100\n",
      "9200/9200 [==============================] - 1s 57us/step - loss: 0.2012 - acc: 0.7988\n",
      "Epoch 49/100\n",
      "9200/9200 [==============================] - 1s 59us/step - loss: 0.2012 - acc: 0.7988\n",
      "Epoch 50/100\n",
      "9200/9200 [==============================] - 1s 57us/step - loss: 0.2012 - acc: 0.7988\n",
      "Epoch 51/100\n",
      "9200/9200 [==============================] - 1s 58us/step - loss: 0.2012 - acc: 0.7988\n",
      "Epoch 52/100\n",
      "9200/9200 [==============================] - 1s 58us/step - loss: 0.2012 - acc: 0.7988\n",
      "Epoch 53/100\n",
      "9200/9200 [==============================] - 1s 59us/step - loss: 0.2012 - acc: 0.7988\n",
      "Epoch 54/100\n",
      "9200/9200 [==============================] - 1s 57us/step - loss: 0.2012 - acc: 0.7988\n",
      "Epoch 55/100\n",
      "9200/9200 [==============================] - 1s 59us/step - loss: 0.2012 - acc: 0.7988\n",
      "Epoch 56/100\n",
      "9200/9200 [==============================] - 1s 59us/step - loss: 0.2012 - acc: 0.7988\n",
      "Epoch 57/100\n",
      "9200/9200 [==============================] - 1s 57us/step - loss: 0.2012 - acc: 0.7988\n",
      "Epoch 58/100\n",
      "9200/9200 [==============================] - 1s 58us/step - loss: 0.2012 - acc: 0.7988\n",
      "Epoch 59/100\n",
      "9200/9200 [==============================] - 1s 57us/step - loss: 0.2012 - acc: 0.7988\n",
      "Epoch 60/100\n",
      "9200/9200 [==============================] - 1s 59us/step - loss: 0.2012 - acc: 0.7988\n",
      "Epoch 61/100\n",
      "9200/9200 [==============================] - 1s 57us/step - loss: 0.2012 - acc: 0.7988\n",
      "Epoch 62/100\n",
      "9200/9200 [==============================] - 1s 57us/step - loss: 0.2012 - acc: 0.7988\n",
      "Epoch 63/100\n",
      "9200/9200 [==============================] - 1s 58us/step - loss: 0.2012 - acc: 0.7988\n",
      "Epoch 64/100\n",
      "9200/9200 [==============================] - 1s 60us/step - loss: 0.2012 - acc: 0.7988\n",
      "Epoch 65/100\n",
      "9200/9200 [==============================] - 1s 57us/step - loss: 0.2012 - acc: 0.7988\n",
      "Epoch 66/100\n",
      "9200/9200 [==============================] - 1s 58us/step - loss: 0.2012 - acc: 0.7988\n",
      "Epoch 67/100\n",
      "9200/9200 [==============================] - 1s 57us/step - loss: 0.2012 - acc: 0.7988\n",
      "Epoch 68/100\n",
      "9200/9200 [==============================] - 1s 58us/step - loss: 0.2012 - acc: 0.7988\n",
      "Epoch 69/100\n",
      "9200/9200 [==============================] - 1s 57us/step - loss: 0.2012 - acc: 0.7988\n",
      "Epoch 70/100\n",
      "9200/9200 [==============================] - 1s 58us/step - loss: 0.2012 - acc: 0.7988\n",
      "Epoch 71/100\n",
      "9200/9200 [==============================] - 1s 57us/step - loss: 0.2012 - acc: 0.7988\n",
      "Epoch 72/100\n",
      "9200/9200 [==============================] - 1s 57us/step - loss: 0.2012 - acc: 0.7988\n",
      "Epoch 73/100\n",
      "9200/9200 [==============================] - 1s 61us/step - loss: 0.2012 - acc: 0.7988\n",
      "Epoch 74/100\n",
      "9200/9200 [==============================] - 1s 61us/step - loss: 0.2012 - acc: 0.7988\n",
      "Epoch 75/100\n",
      "9200/9200 [==============================] - 1s 58us/step - loss: 0.2012 - acc: 0.7988\n",
      "Epoch 76/100\n",
      "9200/9200 [==============================] - 1s 57us/step - loss: 0.2012 - acc: 0.7988\n",
      "Epoch 77/100\n",
      "9200/9200 [==============================] - 1s 61us/step - loss: 0.2012 - acc: 0.7988\n",
      "Epoch 78/100\n",
      "9200/9200 [==============================] - 1s 58us/step - loss: 0.2012 - acc: 0.7988\n",
      "Epoch 79/100\n",
      "9200/9200 [==============================] - 1s 58us/step - loss: 0.2012 - acc: 0.7988\n",
      "Epoch 80/100\n",
      "9200/9200 [==============================] - 1s 58us/step - loss: 0.2012 - acc: 0.7988\n",
      "Epoch 81/100\n",
      "9200/9200 [==============================] - 1s 58us/step - loss: 0.2012 - acc: 0.7988\n",
      "Epoch 82/100\n"
     ]
    },
    {
     "name": "stdout",
     "output_type": "stream",
     "text": [
      "9200/9200 [==============================] - 1s 58us/step - loss: 0.2012 - acc: 0.7988\n",
      "Epoch 83/100\n",
      "9200/9200 [==============================] - 1s 58us/step - loss: 0.2012 - acc: 0.7988\n",
      "Epoch 84/100\n",
      "9200/9200 [==============================] - 1s 59us/step - loss: 0.2012 - acc: 0.7988\n",
      "Epoch 85/100\n",
      "9200/9200 [==============================] - 1s 59us/step - loss: 0.2012 - acc: 0.7988\n",
      "Epoch 86/100\n",
      "9200/9200 [==============================] - 1s 58us/step - loss: 0.2012 - acc: 0.7988\n",
      "Epoch 87/100\n",
      "9200/9200 [==============================] - 1s 59us/step - loss: 0.2012 - acc: 0.7988\n",
      "Epoch 88/100\n",
      "9200/9200 [==============================] - 1s 57us/step - loss: 0.2012 - acc: 0.7988\n",
      "Epoch 89/100\n",
      "9200/9200 [==============================] - 1s 56us/step - loss: 0.2012 - acc: 0.7988\n",
      "Epoch 90/100\n",
      "9200/9200 [==============================] - 1s 58us/step - loss: 0.2012 - acc: 0.7988\n",
      "Epoch 91/100\n",
      "9200/9200 [==============================] - 1s 56us/step - loss: 0.2012 - acc: 0.7988\n",
      "Epoch 92/100\n",
      "9200/9200 [==============================] - 1s 58us/step - loss: 0.2012 - acc: 0.7988\n",
      "Epoch 93/100\n",
      "9200/9200 [==============================] - 1s 57us/step - loss: 0.2012 - acc: 0.7988\n",
      "Epoch 94/100\n",
      "9200/9200 [==============================] - 1s 59us/step - loss: 0.2012 - acc: 0.7988\n",
      "Epoch 95/100\n",
      "9200/9200 [==============================] - 1s 57us/step - loss: 0.2012 - acc: 0.7988\n",
      "Epoch 96/100\n",
      "9200/9200 [==============================] - 1s 58us/step - loss: 0.2012 - acc: 0.7988\n",
      "Epoch 97/100\n",
      "9200/9200 [==============================] - 1s 57us/step - loss: 0.2012 - acc: 0.7988\n",
      "Epoch 98/100\n",
      "9200/9200 [==============================] - 1s 57us/step - loss: 0.2012 - acc: 0.7988\n",
      "Epoch 99/100\n",
      "9200/9200 [==============================] - 1s 57us/step - loss: 0.2012 - acc: 0.7988\n",
      "Epoch 100/100\n",
      "9200/9200 [==============================] - 1s 59us/step - loss: 0.2012 - acc: 0.7988\n"
     ]
    },
    {
     "data": {
      "text/plain": [
       "<keras.callbacks.History at 0x1a3dee8898>"
      ]
     },
     "execution_count": 24,
     "metadata": {},
     "output_type": "execute_result"
    }
   ],
   "source": [
    "ann2 = Sequential()\n",
    "ann2.add(Dense(output_dim = 80, init = 'uniform', activation = 'relu', input_dim = 178))\n",
    "ann2.add(Dense(output_dim = 80, init = 'uniform', activation = 'relu'))\n",
    "ann2.add(Dense(output_dim = 1, init = 'uniform', activation = 'sigmoid'))\n",
    "ann2.compile(optimizer = 'adam', loss = 'mean_squared_error', metrics = ['accuracy'])\n",
    "ann2.fit(X_train, Y_train, batch_size = 10, nb_epoch = 100)"
   ]
  },
  {
   "cell_type": "code",
   "execution_count": 25,
   "metadata": {},
   "outputs": [
    {
     "name": "stdout",
     "output_type": "stream",
     "text": [
      "testing accuracy:  80.47826086956522\n"
     ]
    }
   ],
   "source": [
    "Y_pred2 = ann2.predict(X_test)\n",
    "Y_pred2[Y_pred2 > 0.5] = 1\n",
    "Y_pred2[Y_pred2 <= 0.5] = 0\n",
    "acc_ann2 = accuracy_score(Y_test, Y_pred2) * 100\n",
    "print('testing accuracy: ', acc_ann2)"
   ]
  },
  {
   "cell_type": "code",
   "execution_count": 26,
   "metadata": {
    "scrolled": true
   },
   "outputs": [
    {
     "name": "stdout",
     "output_type": "stream",
     "text": [
      "Epoch 1/100\n"
     ]
    },
    {
     "name": "stderr",
     "output_type": "stream",
     "text": [
      "/Applications/anaconda3/lib/python3.7/site-packages/ipykernel_launcher.py:2: UserWarning: Update your `Dense` call to the Keras 2 API: `Dense(activation=\"relu\", input_dim=178, units=80, kernel_initializer=\"uniform\")`\n",
      "  \n",
      "/Applications/anaconda3/lib/python3.7/site-packages/ipykernel_launcher.py:3: UserWarning: Update your `Dense` call to the Keras 2 API: `Dense(activation=\"relu\", units=80, kernel_initializer=\"uniform\")`\n",
      "  This is separate from the ipykernel package so we can avoid doing imports until\n",
      "/Applications/anaconda3/lib/python3.7/site-packages/ipykernel_launcher.py:4: UserWarning: Update your `Dense` call to the Keras 2 API: `Dense(activation=\"sigmoid\", units=1, kernel_initializer=\"uniform\")`\n",
      "  after removing the cwd from sys.path.\n",
      "/Applications/anaconda3/lib/python3.7/site-packages/ipykernel_launcher.py:6: UserWarning: The `nb_epoch` argument in `fit` has been renamed `epochs`.\n",
      "  \n"
     ]
    },
    {
     "name": "stdout",
     "output_type": "stream",
     "text": [
      "9200/9200 [==============================] - 1s 64us/step - loss: 0.2027 - acc: 0.7978\n",
      "Epoch 2/100\n",
      "9200/9200 [==============================] - 0s 49us/step - loss: 0.2013 - acc: 0.7988\n",
      "Epoch 3/100\n",
      "9200/9200 [==============================] - 0s 48us/step - loss: 0.2013 - acc: 0.7988\n",
      "Epoch 4/100\n",
      "9200/9200 [==============================] - 0s 47us/step - loss: 0.2012 - acc: 0.7988\n",
      "Epoch 5/100\n",
      "9200/9200 [==============================] - 0s 49us/step - loss: 0.2012 - acc: 0.7988\n",
      "Epoch 6/100\n",
      "9200/9200 [==============================] - 0s 48us/step - loss: 0.2012 - acc: 0.7988\n",
      "Epoch 7/100\n",
      "9200/9200 [==============================] - 0s 48us/step - loss: 0.2012 - acc: 0.7988\n",
      "Epoch 8/100\n",
      "9200/9200 [==============================] - 0s 48us/step - loss: 0.2012 - acc: 0.7988\n",
      "Epoch 9/100\n",
      "9200/9200 [==============================] - 0s 47us/step - loss: 0.2012 - acc: 0.7988\n",
      "Epoch 10/100\n",
      "9200/9200 [==============================] - 0s 48us/step - loss: 0.2012 - acc: 0.7988\n",
      "Epoch 11/100\n",
      "9200/9200 [==============================] - 0s 48us/step - loss: 0.2012 - acc: 0.7988\n",
      "Epoch 12/100\n",
      "9200/9200 [==============================] - 0s 48us/step - loss: 0.2012 - acc: 0.7988\n",
      "Epoch 13/100\n",
      "9200/9200 [==============================] - 0s 50us/step - loss: 0.2012 - acc: 0.7988\n",
      "Epoch 14/100\n",
      "9200/9200 [==============================] - 0s 48us/step - loss: 0.2012 - acc: 0.7988\n",
      "Epoch 15/100\n",
      "9200/9200 [==============================] - 0s 48us/step - loss: 0.2012 - acc: 0.7988\n",
      "Epoch 16/100\n",
      "9200/9200 [==============================] - 0s 48us/step - loss: 0.2012 - acc: 0.7988\n",
      "Epoch 17/100\n",
      "9200/9200 [==============================] - 0s 47us/step - loss: 0.2012 - acc: 0.7988\n",
      "Epoch 18/100\n",
      "9200/9200 [==============================] - 0s 48us/step - loss: 0.2012 - acc: 0.7988\n",
      "Epoch 19/100\n",
      "9200/9200 [==============================] - 0s 48us/step - loss: 0.2012 - acc: 0.7988\n",
      "Epoch 20/100\n",
      "9200/9200 [==============================] - 0s 48us/step - loss: 0.2012 - acc: 0.7988\n",
      "Epoch 21/100\n",
      "9200/9200 [==============================] - 0s 48us/step - loss: 0.2012 - acc: 0.7988\n",
      "Epoch 22/100\n",
      "9200/9200 [==============================] - 0s 48us/step - loss: 0.2012 - acc: 0.7988\n",
      "Epoch 23/100\n",
      "9200/9200 [==============================] - 0s 52us/step - loss: 0.2012 - acc: 0.7988\n",
      "Epoch 24/100\n",
      "9200/9200 [==============================] - 0s 48us/step - loss: 0.2012 - acc: 0.7988\n",
      "Epoch 25/100\n",
      "9200/9200 [==============================] - 0s 48us/step - loss: 0.2012 - acc: 0.7988\n",
      "Epoch 26/100\n",
      "9200/9200 [==============================] - 0s 48us/step - loss: 0.2012 - acc: 0.7988\n",
      "Epoch 27/100\n",
      "9200/9200 [==============================] - 0s 48us/step - loss: 0.2012 - acc: 0.7988\n",
      "Epoch 28/100\n",
      "9200/9200 [==============================] - 0s 48us/step - loss: 0.2012 - acc: 0.7988\n",
      "Epoch 29/100\n",
      "9200/9200 [==============================] - 0s 48us/step - loss: 0.2012 - acc: 0.7988\n",
      "Epoch 30/100\n",
      "9200/9200 [==============================] - 0s 48us/step - loss: 0.2012 - acc: 0.7988\n",
      "Epoch 31/100\n",
      "9200/9200 [==============================] - 0s 48us/step - loss: 0.2012 - acc: 0.7988\n",
      "Epoch 32/100\n",
      "9200/9200 [==============================] - 0s 48us/step - loss: 0.2012 - acc: 0.7988\n",
      "Epoch 33/100\n",
      "9200/9200 [==============================] - 0s 49us/step - loss: 0.2012 - acc: 0.7988\n",
      "Epoch 34/100\n",
      "9200/9200 [==============================] - 0s 48us/step - loss: 0.2012 - acc: 0.7988\n",
      "Epoch 35/100\n",
      "9200/9200 [==============================] - 0s 48us/step - loss: 0.2012 - acc: 0.7988\n",
      "Epoch 36/100\n",
      "9200/9200 [==============================] - 0s 48us/step - loss: 0.2012 - acc: 0.7988\n",
      "Epoch 37/100\n",
      "9200/9200 [==============================] - 0s 47us/step - loss: 0.2012 - acc: 0.7988\n",
      "Epoch 38/100\n",
      "9200/9200 [==============================] - 0s 48us/step - loss: 0.2012 - acc: 0.7988\n",
      "Epoch 39/100\n",
      "9200/9200 [==============================] - 0s 48us/step - loss: 0.2012 - acc: 0.7988: 0s - loss: 0.2017 - acc: 0.798\n",
      "Epoch 40/100\n",
      "9200/9200 [==============================] - 0s 48us/step - loss: 0.2012 - acc: 0.7988\n",
      "Epoch 41/100\n",
      "9200/9200 [==============================] - 0s 48us/step - loss: 0.2012 - acc: 0.7988\n",
      "Epoch 42/100\n",
      "9200/9200 [==============================] - 0s 48us/step - loss: 0.2012 - acc: 0.7988\n",
      "Epoch 43/100\n",
      "9200/9200 [==============================] - 0s 48us/step - loss: 0.2012 - acc: 0.7988\n",
      "Epoch 44/100\n",
      "9200/9200 [==============================] - 0s 48us/step - loss: 0.2012 - acc: 0.7988\n",
      "Epoch 45/100\n",
      "9200/9200 [==============================] - 0s 48us/step - loss: 0.2012 - acc: 0.7988\n",
      "Epoch 46/100\n",
      "9200/9200 [==============================] - 0s 49us/step - loss: 0.2012 - acc: 0.7988\n",
      "Epoch 47/100\n",
      "9200/9200 [==============================] - 0s 48us/step - loss: 0.2012 - acc: 0.7988\n",
      "Epoch 48/100\n",
      "9200/9200 [==============================] - 0s 48us/step - loss: 0.2012 - acc: 0.7988\n",
      "Epoch 49/100\n",
      "9200/9200 [==============================] - 0s 48us/step - loss: 0.2012 - acc: 0.7988\n",
      "Epoch 50/100\n",
      "9200/9200 [==============================] - 0s 48us/step - loss: 0.2012 - acc: 0.7988\n",
      "Epoch 51/100\n",
      "9200/9200 [==============================] - 0s 49us/step - loss: 0.2012 - acc: 0.7988\n",
      "Epoch 52/100\n",
      "9200/9200 [==============================] - 0s 48us/step - loss: 0.2012 - acc: 0.7988\n",
      "Epoch 53/100\n",
      "9200/9200 [==============================] - 0s 48us/step - loss: 0.2012 - acc: 0.7988\n",
      "Epoch 54/100\n",
      "9200/9200 [==============================] - 0s 48us/step - loss: 0.2012 - acc: 0.7988\n",
      "Epoch 55/100\n",
      "9200/9200 [==============================] - 0s 48us/step - loss: 0.2012 - acc: 0.7988\n",
      "Epoch 56/100\n",
      "9200/9200 [==============================] - 0s 48us/step - loss: 0.2012 - acc: 0.7988\n",
      "Epoch 57/100\n",
      "9200/9200 [==============================] - 0s 49us/step - loss: 0.2012 - acc: 0.7988\n",
      "Epoch 58/100\n",
      "9200/9200 [==============================] - 0s 51us/step - loss: 0.2012 - acc: 0.7988\n",
      "Epoch 59/100\n",
      "9200/9200 [==============================] - 0s 48us/step - loss: 0.2012 - acc: 0.7988\n",
      "Epoch 60/100\n",
      "9200/9200 [==============================] - 0s 48us/step - loss: 0.2012 - acc: 0.7988\n",
      "Epoch 61/100\n",
      "9200/9200 [==============================] - 0s 49us/step - loss: 0.2012 - acc: 0.7988\n",
      "Epoch 62/100\n",
      "9200/9200 [==============================] - 0s 48us/step - loss: 0.2012 - acc: 0.7988\n",
      "Epoch 63/100\n",
      "9200/9200 [==============================] - 0s 48us/step - loss: 0.2012 - acc: 0.7988\n",
      "Epoch 64/100\n",
      "9200/9200 [==============================] - 0s 47us/step - loss: 0.2012 - acc: 0.7988\n",
      "Epoch 65/100\n",
      "9200/9200 [==============================] - 0s 47us/step - loss: 0.2012 - acc: 0.7988\n",
      "Epoch 66/100\n",
      "9200/9200 [==============================] - 0s 48us/step - loss: 0.2012 - acc: 0.7988\n",
      "Epoch 67/100\n",
      "9200/9200 [==============================] - 0s 48us/step - loss: 0.2012 - acc: 0.7988\n",
      "Epoch 68/100\n",
      "9200/9200 [==============================] - 0s 48us/step - loss: 0.2012 - acc: 0.7988\n",
      "Epoch 69/100\n",
      "9200/9200 [==============================] - 0s 48us/step - loss: 0.2012 - acc: 0.7988\n",
      "Epoch 70/100\n",
      "9200/9200 [==============================] - 0s 48us/step - loss: 0.2012 - acc: 0.7988\n",
      "Epoch 71/100\n",
      "9200/9200 [==============================] - 0s 48us/step - loss: 0.2012 - acc: 0.7988\n",
      "Epoch 72/100\n",
      "9200/9200 [==============================] - 0s 48us/step - loss: 0.2012 - acc: 0.7988\n",
      "Epoch 73/100\n",
      "9200/9200 [==============================] - 0s 48us/step - loss: 0.2012 - acc: 0.7988\n",
      "Epoch 74/100\n",
      "9200/9200 [==============================] - 0s 48us/step - loss: 0.2012 - acc: 0.7988\n",
      "Epoch 75/100\n",
      "9200/9200 [==============================] - 0s 48us/step - loss: 0.2012 - acc: 0.7988\n",
      "Epoch 76/100\n",
      "9200/9200 [==============================] - 0s 49us/step - loss: 0.2012 - acc: 0.7988\n",
      "Epoch 77/100\n",
      "9200/9200 [==============================] - 0s 48us/step - loss: 0.2012 - acc: 0.7988\n",
      "Epoch 78/100\n",
      "9200/9200 [==============================] - 0s 47us/step - loss: 0.2012 - acc: 0.7988\n",
      "Epoch 79/100\n",
      "9200/9200 [==============================] - 0s 48us/step - loss: 0.2012 - acc: 0.7988\n",
      "Epoch 80/100\n",
      "9200/9200 [==============================] - 0s 48us/step - loss: 0.2012 - acc: 0.7988\n",
      "Epoch 81/100\n",
      "9200/9200 [==============================] - 0s 48us/step - loss: 0.2012 - acc: 0.7988\n",
      "Epoch 82/100\n"
     ]
    },
    {
     "name": "stdout",
     "output_type": "stream",
     "text": [
      "9200/9200 [==============================] - 0s 48us/step - loss: 0.2012 - acc: 0.7988\n",
      "Epoch 83/100\n",
      "9200/9200 [==============================] - 0s 48us/step - loss: 0.2012 - acc: 0.7988\n",
      "Epoch 84/100\n",
      "9200/9200 [==============================] - 0s 48us/step - loss: 0.2012 - acc: 0.7988\n",
      "Epoch 85/100\n",
      "9200/9200 [==============================] - 0s 48us/step - loss: 0.2012 - acc: 0.7988\n",
      "Epoch 86/100\n",
      "9200/9200 [==============================] - 0s 48us/step - loss: 0.2012 - acc: 0.7988\n",
      "Epoch 87/100\n",
      "9200/9200 [==============================] - 0s 48us/step - loss: 0.2012 - acc: 0.7988\n",
      "Epoch 88/100\n",
      "9200/9200 [==============================] - 0s 48us/step - loss: 0.2012 - acc: 0.7988\n",
      "Epoch 89/100\n",
      "9200/9200 [==============================] - 0s 48us/step - loss: 0.2012 - acc: 0.7988\n",
      "Epoch 90/100\n",
      "9200/9200 [==============================] - 0s 52us/step - loss: 0.2012 - acc: 0.7988\n",
      "Epoch 91/100\n",
      "9200/9200 [==============================] - 0s 48us/step - loss: 0.2012 - acc: 0.7988\n",
      "Epoch 92/100\n",
      "9200/9200 [==============================] - 0s 49us/step - loss: 0.2012 - acc: 0.7988\n",
      "Epoch 93/100\n",
      "9200/9200 [==============================] - 0s 48us/step - loss: 0.2012 - acc: 0.7988\n",
      "Epoch 94/100\n",
      "9200/9200 [==============================] - 0s 48us/step - loss: 0.2012 - acc: 0.7988\n",
      "Epoch 95/100\n",
      "9200/9200 [==============================] - 0s 48us/step - loss: 0.2012 - acc: 0.7988\n",
      "Epoch 96/100\n",
      "9200/9200 [==============================] - 0s 48us/step - loss: 0.2012 - acc: 0.7988\n",
      "Epoch 97/100\n",
      "9200/9200 [==============================] - 0s 49us/step - loss: 0.2012 - acc: 0.7988\n",
      "Epoch 98/100\n",
      "9200/9200 [==============================] - 0s 48us/step - loss: 0.2012 - acc: 0.7988\n",
      "Epoch 99/100\n",
      "9200/9200 [==============================] - 0s 48us/step - loss: 0.2012 - acc: 0.7988\n",
      "Epoch 100/100\n",
      "9200/9200 [==============================] - 0s 48us/step - loss: 0.2012 - acc: 0.7988\n"
     ]
    },
    {
     "data": {
      "text/plain": [
       "<keras.callbacks.History at 0x1a407448d0>"
      ]
     },
     "execution_count": 26,
     "metadata": {},
     "output_type": "execute_result"
    }
   ],
   "source": [
    "ann3 = Sequential()\n",
    "ann3.add(Dense(output_dim = 80, init = 'uniform', activation = 'relu', input_dim = 178))\n",
    "ann3.add(Dense(output_dim = 80, init = 'uniform', activation = 'relu'))\n",
    "ann3.add(Dense(output_dim = 1, init = 'uniform', activation = 'sigmoid'))\n",
    "ann3.compile(optimizer = 'SGD', loss = 'mean_squared_error', metrics = ['accuracy'])\n",
    "ann3.fit(X_train, Y_train, batch_size = 10, nb_epoch = 100)"
   ]
  },
  {
   "cell_type": "code",
   "execution_count": 27,
   "metadata": {},
   "outputs": [
    {
     "name": "stdout",
     "output_type": "stream",
     "text": [
      "testing accuracy:  80.47826086956522\n"
     ]
    }
   ],
   "source": [
    "Y_pred3 = ann3.predict(X_test)\n",
    "Y_pred3[Y_pred3 > 0.5] = 1\n",
    "Y_pred3[Y_pred3 <= 0.5] = 0\n",
    "acc_ann3 = accuracy_score(Y_test, Y_pred3) * 100\n",
    "print('testing accuracy: ', acc_ann3)"
   ]
  },
  {
   "cell_type": "code",
   "execution_count": 28,
   "metadata": {
    "scrolled": true
   },
   "outputs": [
    {
     "name": "stderr",
     "output_type": "stream",
     "text": [
      "/Applications/anaconda3/lib/python3.7/site-packages/ipykernel_launcher.py:2: UserWarning: Update your `Dense` call to the Keras 2 API: `Dense(activation=\"relu\", input_dim=178, units=80, kernel_initializer=\"uniform\")`\n",
      "  \n",
      "/Applications/anaconda3/lib/python3.7/site-packages/ipykernel_launcher.py:3: UserWarning: Update your `Dense` call to the Keras 2 API: `Dense(activation=\"relu\", units=80, kernel_initializer=\"uniform\")`\n",
      "  This is separate from the ipykernel package so we can avoid doing imports until\n",
      "/Applications/anaconda3/lib/python3.7/site-packages/ipykernel_launcher.py:4: UserWarning: Update your `Dense` call to the Keras 2 API: `Dense(activation=\"sigmoid\", units=1, kernel_initializer=\"uniform\")`\n",
      "  after removing the cwd from sys.path.\n",
      "/Applications/anaconda3/lib/python3.7/site-packages/ipykernel_launcher.py:6: UserWarning: The `nb_epoch` argument in `fit` has been renamed `epochs`.\n",
      "  \n"
     ]
    },
    {
     "name": "stdout",
     "output_type": "stream",
     "text": [
      "Epoch 1/100\n",
      "9200/9200 [==============================] - 1s 80us/step - loss: 0.7326 - acc: 0.8546\n",
      "Epoch 2/100\n",
      "9200/9200 [==============================] - 1s 59us/step - loss: 0.2630 - acc: 0.9297\n",
      "Epoch 3/100\n",
      "9200/9200 [==============================] - 1s 58us/step - loss: 0.2461 - acc: 0.9266: 0s - loss: 0.2406 - acc: 0.\n",
      "Epoch 4/100\n",
      "9200/9200 [==============================] - 1s 57us/step - loss: 0.4256 - acc: 0.8830\n",
      "Epoch 5/100\n",
      "9200/9200 [==============================] - 1s 58us/step - loss: 0.3745 - acc: 0.8963\n",
      "Epoch 6/100\n",
      "9200/9200 [==============================] - 1s 58us/step - loss: 0.4231 - acc: 0.8941\n",
      "Epoch 7/100\n",
      "9200/9200 [==============================] - 1s 57us/step - loss: 0.7057 - acc: 0.8389\n",
      "Epoch 8/100\n",
      "9200/9200 [==============================] - 1s 58us/step - loss: 0.5234 - acc: 0.8280\n",
      "Epoch 9/100\n",
      "9200/9200 [==============================] - 1s 57us/step - loss: 0.4961 - acc: 0.8196: 0s - loss: 0.4840 - acc: 0.\n",
      "Epoch 10/100\n",
      "9200/9200 [==============================] - 1s 58us/step - loss: 0.4671 - acc: 0.8326\n",
      "Epoch 11/100\n",
      "9200/9200 [==============================] - 1s 57us/step - loss: 0.4451 - acc: 0.8307\n",
      "Epoch 12/100\n",
      "9200/9200 [==============================] - 1s 58us/step - loss: 0.4570 - acc: 0.8293\n",
      "Epoch 13/100\n",
      "9200/9200 [==============================] - 1s 56us/step - loss: 0.4726 - acc: 0.8341\n",
      "Epoch 14/100\n",
      "9200/9200 [==============================] - 1s 58us/step - loss: 0.4646 - acc: 0.8248\n",
      "Epoch 15/100\n",
      "9200/9200 [==============================] - 1s 57us/step - loss: 0.6083 - acc: 0.8163\n",
      "Epoch 16/100\n",
      "9200/9200 [==============================] - 1s 57us/step - loss: 0.5003 - acc: 0.8150\n",
      "Epoch 17/100\n",
      "9200/9200 [==============================] - 1s 58us/step - loss: 0.4954 - acc: 0.8096\n",
      "Epoch 18/100\n",
      "9200/9200 [==============================] - 1s 58us/step - loss: 0.4842 - acc: 0.8150\n",
      "Epoch 19/100\n",
      "9200/9200 [==============================] - 1s 58us/step - loss: 0.5128 - acc: 0.8142\n",
      "Epoch 20/100\n",
      "9200/9200 [==============================] - 1s 59us/step - loss: 0.4753 - acc: 0.8171\n",
      "Epoch 21/100\n",
      "9200/9200 [==============================] - 1s 57us/step - loss: 0.5982 - acc: 0.8088\n",
      "Epoch 22/100\n",
      "9200/9200 [==============================] - 1s 58us/step - loss: 0.5049 - acc: 0.8101\n",
      "Epoch 23/100\n",
      "9200/9200 [==============================] - 1s 58us/step - loss: 0.4953 - acc: 0.8130\n",
      "Epoch 24/100\n",
      "9200/9200 [==============================] - 1s 58us/step - loss: 0.5667 - acc: 0.8137\n",
      "Epoch 25/100\n",
      "9200/9200 [==============================] - 1s 58us/step - loss: 0.4837 - acc: 0.8123\n",
      "Epoch 26/100\n",
      "9200/9200 [==============================] - 1s 58us/step - loss: 0.4825 - acc: 0.8168\n",
      "Epoch 27/100\n",
      "9200/9200 [==============================] - 1s 57us/step - loss: 0.5112 - acc: 0.8176\n",
      "Epoch 28/100\n",
      "9200/9200 [==============================] - 1s 58us/step - loss: 0.5015 - acc: 0.8095\n",
      "Epoch 29/100\n",
      "9200/9200 [==============================] - 1s 58us/step - loss: 0.4916 - acc: 0.8077: 0s - loss: 0.4956 - acc: 0\n",
      "Epoch 30/100\n",
      "9200/9200 [==============================] - 1s 58us/step - loss: 0.4831 - acc: 0.8136\n",
      "Epoch 31/100\n",
      "9200/9200 [==============================] - 1s 58us/step - loss: 0.4869 - acc: 0.8095\n",
      "Epoch 32/100\n",
      "9200/9200 [==============================] - 1s 56us/step - loss: 0.4918 - acc: 0.8052\n",
      "Epoch 33/100\n",
      "9200/9200 [==============================] - 1s 57us/step - loss: 0.4917 - acc: 0.8052\n",
      "Epoch 34/100\n",
      "9200/9200 [==============================] - 1s 57us/step - loss: 0.4918 - acc: 0.8052\n",
      "Epoch 35/100\n",
      "9200/9200 [==============================] - 1s 58us/step - loss: 0.4918 - acc: 0.8052\n",
      "Epoch 36/100\n",
      "9200/9200 [==============================] - 1s 57us/step - loss: 0.4917 - acc: 0.8052\n",
      "Epoch 37/100\n",
      "9200/9200 [==============================] - 1s 58us/step - loss: 0.4917 - acc: 0.8052\n",
      "Epoch 38/100\n",
      "9200/9200 [==============================] - 1s 58us/step - loss: 0.4918 - acc: 0.8052: 0s - loss: 0.4913 - acc: 0\n",
      "Epoch 39/100\n",
      "9200/9200 [==============================] - 1s 58us/step - loss: 0.4918 - acc: 0.8052\n",
      "Epoch 40/100\n",
      "9200/9200 [==============================] - 1s 63us/step - loss: 0.4917 - acc: 0.8052\n",
      "Epoch 41/100\n",
      "9200/9200 [==============================] - 1s 58us/step - loss: 0.4917 - acc: 0.8052\n",
      "Epoch 42/100\n",
      "9200/9200 [==============================] - 1s 57us/step - loss: 0.4917 - acc: 0.8052\n",
      "Epoch 43/100\n",
      "9200/9200 [==============================] - 1s 58us/step - loss: 0.4918 - acc: 0.8052: 0s - loss: 0.4869 - acc: 0\n",
      "Epoch 44/100\n",
      "9200/9200 [==============================] - 1s 58us/step - loss: 0.4918 - acc: 0.8052\n",
      "Epoch 45/100\n",
      "9200/9200 [==============================] - 1s 58us/step - loss: 0.4917 - acc: 0.8052\n",
      "Epoch 46/100\n",
      "9200/9200 [==============================] - 1s 58us/step - loss: 0.4917 - acc: 0.8052\n",
      "Epoch 47/100\n",
      "9200/9200 [==============================] - 1s 61us/step - loss: 0.4918 - acc: 0.8052: 0s - loss: 0.4902 - acc: 0.\n",
      "Epoch 48/100\n",
      "9200/9200 [==============================] - 1s 58us/step - loss: 0.4917 - acc: 0.8052\n",
      "Epoch 49/100\n",
      "9200/9200 [==============================] - 1s 58us/step - loss: 0.4918 - acc: 0.8052\n",
      "Epoch 50/100\n",
      "9200/9200 [==============================] - 1s 58us/step - loss: 0.4918 - acc: 0.8052\n",
      "Epoch 51/100\n",
      "9200/9200 [==============================] - 1s 62us/step - loss: 0.4918 - acc: 0.8052\n",
      "Epoch 52/100\n",
      "9200/9200 [==============================] - 1s 58us/step - loss: 0.4918 - acc: 0.8052\n",
      "Epoch 53/100\n",
      "9200/9200 [==============================] - 1s 58us/step - loss: 0.4917 - acc: 0.8052\n",
      "Epoch 54/100\n",
      "9200/9200 [==============================] - 1s 60us/step - loss: 0.4918 - acc: 0.8052\n",
      "Epoch 55/100\n",
      "9200/9200 [==============================] - 1s 58us/step - loss: 0.4918 - acc: 0.8052\n",
      "Epoch 56/100\n",
      "9200/9200 [==============================] - 1s 59us/step - loss: 0.4918 - acc: 0.8052\n",
      "Epoch 57/100\n",
      "9200/9200 [==============================] - 1s 58us/step - loss: 0.4918 - acc: 0.8052: 0s - loss: 0.4978 - acc: 0.8\n",
      "Epoch 58/100\n",
      "9200/9200 [==============================] - 1s 58us/step - loss: 0.4917 - acc: 0.8052: 0s - loss: 0.4952 - acc: 0.80\n",
      "Epoch 59/100\n",
      "9200/9200 [==============================] - 1s 58us/step - loss: 0.4917 - acc: 0.8052\n",
      "Epoch 60/100\n",
      "9200/9200 [==============================] - 1s 56us/step - loss: 0.4918 - acc: 0.8052\n",
      "Epoch 61/100\n",
      "9200/9200 [==============================] - 1s 59us/step - loss: 0.4918 - acc: 0.8052\n",
      "Epoch 62/100\n",
      "9200/9200 [==============================] - 1s 58us/step - loss: 0.4918 - acc: 0.8052\n",
      "Epoch 63/100\n",
      "9200/9200 [==============================] - 1s 57us/step - loss: 0.4918 - acc: 0.8052\n",
      "Epoch 64/100\n",
      "9200/9200 [==============================] - 1s 56us/step - loss: 0.4918 - acc: 0.8052\n",
      "Epoch 65/100\n",
      "9200/9200 [==============================] - 1s 58us/step - loss: 0.4917 - acc: 0.8052\n",
      "Epoch 66/100\n",
      "9200/9200 [==============================] - 1s 58us/step - loss: 0.4918 - acc: 0.8052\n",
      "Epoch 67/100\n",
      "9200/9200 [==============================] - 1s 58us/step - loss: 0.4918 - acc: 0.8052\n",
      "Epoch 68/100\n",
      "9200/9200 [==============================] - 1s 58us/step - loss: 0.4918 - acc: 0.8052\n",
      "Epoch 69/100\n",
      "9200/9200 [==============================] - 1s 58us/step - loss: 0.4918 - acc: 0.8052\n",
      "Epoch 70/100\n",
      "9200/9200 [==============================] - 1s 58us/step - loss: 0.4918 - acc: 0.8052\n",
      "Epoch 71/100\n",
      "9200/9200 [==============================] - 1s 58us/step - loss: 0.4917 - acc: 0.8052\n",
      "Epoch 72/100\n",
      "9200/9200 [==============================] - 1s 57us/step - loss: 0.4917 - acc: 0.8052\n",
      "Epoch 73/100\n",
      "9200/9200 [==============================] - 1s 58us/step - loss: 0.4918 - acc: 0.8052\n",
      "Epoch 74/100\n",
      "9200/9200 [==============================] - 1s 58us/step - loss: 0.4917 - acc: 0.8052\n",
      "Epoch 75/100\n",
      "9200/9200 [==============================] - 1s 58us/step - loss: 0.4918 - acc: 0.8052\n",
      "Epoch 76/100\n",
      "9200/9200 [==============================] - 1s 58us/step - loss: 0.4918 - acc: 0.8052\n",
      "Epoch 77/100\n",
      "9200/9200 [==============================] - 1s 59us/step - loss: 0.4917 - acc: 0.8052\n",
      "Epoch 78/100\n",
      "9200/9200 [==============================] - 1s 58us/step - loss: 0.4918 - acc: 0.8052\n",
      "Epoch 79/100\n",
      "9200/9200 [==============================] - 1s 58us/step - loss: 0.4917 - acc: 0.8052\n",
      "Epoch 80/100\n"
     ]
    },
    {
     "name": "stdout",
     "output_type": "stream",
     "text": [
      "9200/9200 [==============================] - 1s 57us/step - loss: 0.4918 - acc: 0.8052\n",
      "Epoch 81/100\n",
      "9200/9200 [==============================] - 1s 57us/step - loss: 0.4917 - acc: 0.8052\n",
      "Epoch 82/100\n",
      "9200/9200 [==============================] - 1s 58us/step - loss: 0.4917 - acc: 0.8052\n",
      "Epoch 83/100\n",
      "9200/9200 [==============================] - 1s 57us/step - loss: 0.4917 - acc: 0.8052\n",
      "Epoch 84/100\n",
      "9200/9200 [==============================] - 1s 59us/step - loss: 0.4918 - acc: 0.8052\n",
      "Epoch 85/100\n",
      "9200/9200 [==============================] - 1s 58us/step - loss: 0.4918 - acc: 0.8052\n",
      "Epoch 86/100\n",
      "9200/9200 [==============================] - 1s 57us/step - loss: 0.4918 - acc: 0.8052\n",
      "Epoch 87/100\n",
      "9200/9200 [==============================] - 1s 57us/step - loss: 0.4917 - acc: 0.8052\n",
      "Epoch 88/100\n",
      "9200/9200 [==============================] - 1s 57us/step - loss: 0.4918 - acc: 0.8052\n",
      "Epoch 89/100\n",
      "9200/9200 [==============================] - 1s 57us/step - loss: 0.4918 - acc: 0.8052\n",
      "Epoch 90/100\n",
      "9200/9200 [==============================] - 1s 58us/step - loss: 0.4918 - acc: 0.8052\n",
      "Epoch 91/100\n",
      "9200/9200 [==============================] - 1s 57us/step - loss: 0.4917 - acc: 0.8052\n",
      "Epoch 92/100\n",
      "9200/9200 [==============================] - 1s 58us/step - loss: 0.4918 - acc: 0.8052\n",
      "Epoch 93/100\n",
      "9200/9200 [==============================] - 1s 57us/step - loss: 0.4918 - acc: 0.8052\n",
      "Epoch 94/100\n",
      "9200/9200 [==============================] - 1s 57us/step - loss: 0.4918 - acc: 0.8052\n",
      "Epoch 95/100\n",
      "9200/9200 [==============================] - 1s 57us/step - loss: 0.4918 - acc: 0.8052\n",
      "Epoch 96/100\n",
      "9200/9200 [==============================] - 1s 56us/step - loss: 0.4917 - acc: 0.8052\n",
      "Epoch 97/100\n",
      "9200/9200 [==============================] - 1s 58us/step - loss: 0.4918 - acc: 0.8052\n",
      "Epoch 98/100\n",
      "9200/9200 [==============================] - 1s 57us/step - loss: 0.4918 - acc: 0.8052\n",
      "Epoch 99/100\n",
      "9200/9200 [==============================] - 1s 58us/step - loss: 0.4917 - acc: 0.8052: 0s - loss: 0.4940 - acc: 0.80\n",
      "Epoch 100/100\n",
      "9200/9200 [==============================] - 1s 57us/step - loss: 0.4918 - acc: 0.8052\n"
     ]
    },
    {
     "data": {
      "text/plain": [
       "<keras.callbacks.History at 0x1a42a25e80>"
      ]
     },
     "execution_count": 28,
     "metadata": {},
     "output_type": "execute_result"
    }
   ],
   "source": [
    "ann4 = Sequential()\n",
    "ann4.add(Dense(output_dim = 80, init = 'uniform', activation = 'relu', input_dim = 178))\n",
    "ann4.add(Dense(output_dim = 80, init = 'uniform', activation = 'relu'))\n",
    "ann4.add(Dense(output_dim = 1, init = 'uniform', activation = 'sigmoid'))\n",
    "ann4.compile(optimizer = 'SGD', loss = 'binary_crossentropy', metrics = ['accuracy'])\n",
    "ann4.fit(X_train, Y_train, batch_size = 10, nb_epoch = 100)"
   ]
  },
  {
   "cell_type": "code",
   "execution_count": 29,
   "metadata": {},
   "outputs": [
    {
     "name": "stdout",
     "output_type": "stream",
     "text": [
      "testing accuracy:  80.91304347826087\n"
     ]
    }
   ],
   "source": [
    "Y_pred4 = ann4.predict(X_test)\n",
    "Y_pred4[Y_pred4 > 0.5] = 1\n",
    "Y_pred4[Y_pred4 <= 0.5] = 0\n",
    "acc_ann4 = accuracy_score(Y_test, Y_pred4) * 100\n",
    "print('testing accuracy: ', acc_ann4)"
   ]
  },
  {
   "cell_type": "code",
   "execution_count": 30,
   "metadata": {},
   "outputs": [],
   "source": [
    "test_models = pd.DataFrame({\n",
    "    'Model': ['SVM', 'Linear SVM','KNN', 'Decision Tree', 'LDA', 'Random Forest', 'ANN'],\n",
    "    \n",
    "    'Score': [acc_svm, acc_linear_svm, acc_knn, acc_dt, acc_lda, acc_rf, acc_ann1]\n",
    "    })"
   ]
  },
  {
   "cell_type": "code",
   "execution_count": 31,
   "metadata": {},
   "outputs": [
    {
     "data": {
      "text/html": [
       "<div>\n",
       "<style scoped>\n",
       "    .dataframe tbody tr th:only-of-type {\n",
       "        vertical-align: middle;\n",
       "    }\n",
       "\n",
       "    .dataframe tbody tr th {\n",
       "        vertical-align: top;\n",
       "    }\n",
       "\n",
       "    .dataframe thead th {\n",
       "        text-align: right;\n",
       "    }\n",
       "</style>\n",
       "<table border=\"1\" class=\"dataframe\">\n",
       "  <thead>\n",
       "    <tr style=\"text-align: right;\">\n",
       "      <th></th>\n",
       "      <th>Model</th>\n",
       "      <th>Score</th>\n",
       "    </tr>\n",
       "  </thead>\n",
       "  <tbody>\n",
       "    <tr>\n",
       "      <th>0</th>\n",
       "      <td>SVM</td>\n",
       "      <td>97.782609</td>\n",
       "    </tr>\n",
       "    <tr>\n",
       "      <th>5</th>\n",
       "      <td>Random Forest</td>\n",
       "      <td>97.304348</td>\n",
       "    </tr>\n",
       "    <tr>\n",
       "      <th>6</th>\n",
       "      <td>ANN</td>\n",
       "      <td>95.434783</td>\n",
       "    </tr>\n",
       "    <tr>\n",
       "      <th>2</th>\n",
       "      <td>KNN</td>\n",
       "      <td>95.260870</td>\n",
       "    </tr>\n",
       "    <tr>\n",
       "      <th>3</th>\n",
       "      <td>Decision Tree</td>\n",
       "      <td>94.478261</td>\n",
       "    </tr>\n",
       "    <tr>\n",
       "      <th>1</th>\n",
       "      <td>Linear SVM</td>\n",
       "      <td>85.043478</td>\n",
       "    </tr>\n",
       "    <tr>\n",
       "      <th>4</th>\n",
       "      <td>LDA</td>\n",
       "      <td>82.869565</td>\n",
       "    </tr>\n",
       "  </tbody>\n",
       "</table>\n",
       "</div>"
      ],
      "text/plain": [
       "           Model      Score\n",
       "0            SVM  97.782609\n",
       "5  Random Forest  97.304348\n",
       "6            ANN  95.434783\n",
       "2            KNN  95.260870\n",
       "3  Decision Tree  94.478261\n",
       "1     Linear SVM  85.043478\n",
       "4            LDA  82.869565"
      ]
     },
     "execution_count": 31,
     "metadata": {},
     "output_type": "execute_result"
    }
   ],
   "source": [
    "test_models.sort_values(by='Score', ascending=False)"
   ]
  },
  {
   "cell_type": "code",
   "execution_count": null,
   "metadata": {},
   "outputs": [],
   "source": []
  }
 ],
 "metadata": {
  "kernelspec": {
   "display_name": "Python 3",
   "language": "python",
   "name": "python3"
  },
  "language_info": {
   "codemirror_mode": {
    "name": "ipython",
    "version": 3
   },
   "file_extension": ".py",
   "mimetype": "text/x-python",
   "name": "python",
   "nbconvert_exporter": "python",
   "pygments_lexer": "ipython3",
   "version": "3.7.3"
  }
 },
 "nbformat": 4,
 "nbformat_minor": 2
}
